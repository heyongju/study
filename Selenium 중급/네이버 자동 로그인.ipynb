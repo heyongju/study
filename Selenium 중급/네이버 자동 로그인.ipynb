{
 "cells": [
  {
   "cell_type": "code",
   "execution_count": 26,
   "metadata": {},
   "outputs": [],
   "source": [
    "from selenium import webdriver\n",
    "driver = webdriver.Chrome('C:/chromedriver')\n",
    "url = 'https://www.naver.com/'\n",
    "driver.get(url)\n",
    "\n",
    "driver.find_element_by_xpath('//*[@id=\"account\"]/a').click()\n",
    "\n",
    "naver_id = 'zzdydwn'\n",
    "naver_pw = 'wndyddl12!'\n",
    "\n",
    "# 일반적으로 사람이작성하는 형대 => 네이버 보안에서 막힘.\n",
    "# driver.find_element_by_id('id').send_keys(naver_id)\n",
    "# driver.find_element_by_id('pw').send_keys(naver_pw)\n",
    "\n",
    "driver.execute_script(\"document.getElementsByName('id')[0].value=\\'\"+naver_id+\"\\'\")\n",
    "driver.execute_script(\"document.getElementsByName('pw')[0].value=\\'\"+naver_pw+\"\\'\")\n",
    "\n",
    "driver.find_element_by_xpath('//*[@id=\"log.login\"]').click()"
   ]
  },
  {
   "cell_type": "code",
   "execution_count": 36,
   "metadata": {},
   "outputs": [],
   "source": [
    "from selenium import webdriver\n",
    "driver = webdriver.Chrome('C:/chromedriver')\n",
    "url = 'https://www.daum.net/'\n",
    "driver.get(url)\n",
    "\n",
    "driver.find_element_by_xpath('//*[@id=\"inner_login\"]/a[1]').click()\n",
    "\n",
    "daum_id = 'zzdydwn'\n",
    "daum_pw = 'tndnjsdl1'\n",
    "\n",
    "\n",
    "driver.find_element_by_id('id').send_keys(daum_id)\n",
    "driver.find_element_by_id('inputPwd').send_keys(daum_pw)\n",
    "\n",
    "driver.find_element_by_xpath('//*[@id=\"loginBtn\"]').click()"
   ]
  },
  {
   "cell_type": "code",
   "execution_count": 55,
   "metadata": {},
   "outputs": [],
   "source": [
    "from selenium import webdriver\n",
    "from time import sleep\n",
    "\n",
    "driver = webdriver.Chrome('c:/chromedriver')\n",
    "url = 'https://www.google.com/'\n",
    "\n",
    "driver.implicitly_wait(3)\n",
    "\n",
    "driver.get(url)\n",
    "\n",
    "google_email = \"zzdydwn@naver.com\" \n",
    "google_pw = \"dydwn123\"\n",
    "\n",
    "driver.find_element_by_xpath('//*[@id=\"gb_70\"]').click()\n",
    "driver.find_element_by_xpath('//input[@type=\"email\"]').send_keys(google_id)\n",
    "driver.find_element_by_xpath('//*[@id=\"identifierNext\"]').click()\n",
    "sleep(3)\n",
    "driver.find_element_by_xpath('//input[@type=\"password\"]').send_keys(google_pw)\n",
    "driver.find_element_by_xpath('//*[@id=\"passwordNext\"]').click()\n",
    "sleep(2)"
   ]
  },
  {
   "cell_type": "code",
   "execution_count": null,
   "metadata": {},
   "outputs": [],
   "source": []
  }
 ],
 "metadata": {
  "kernelspec": {
   "display_name": "Python 3",
   "language": "python",
   "name": "python3"
  },
  "language_info": {
   "codemirror_mode": {
    "name": "ipython",
    "version": 3
   },
   "file_extension": ".py",
   "mimetype": "text/x-python",
   "name": "python",
   "nbconvert_exporter": "python",
   "pygments_lexer": "ipython3",
   "version": "3.8.3"
  }
 },
 "nbformat": 4,
 "nbformat_minor": 4
}
