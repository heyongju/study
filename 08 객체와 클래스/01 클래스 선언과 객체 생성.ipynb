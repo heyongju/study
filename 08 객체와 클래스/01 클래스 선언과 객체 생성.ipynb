{
 "cells": [
  {
   "cell_type": "markdown",
   "metadata": {},
   "source": [
    "#### 클래스 선언"
   ]
  },
  {
   "cell_type": "markdown",
   "metadata": {},
   "source": [
    "####  객체 생성 및 활용"
   ]
  },
  {
   "cell_type": "code",
   "execution_count": 4,
   "metadata": {},
   "outputs": [],
   "source": [
    "class Bicycle():   #bicycle 객체 생성\n",
    "        pass"
   ]
  },
  {
   "cell_type": "code",
   "execution_count": 5,
   "metadata": {},
   "outputs": [],
   "source": [
    "my_bicycle = Bicycle()   #인스턴스 생성 "
   ]
  },
  {
   "cell_type": "code",
   "execution_count": 6,
   "metadata": {},
   "outputs": [],
   "source": [
    "my_bicycle.wheel_size = 26\n",
    "my_bicycle.color = 'black'"
   ]
  },
  {
   "cell_type": "code",
   "execution_count": 8,
   "metadata": {},
   "outputs": [
    {
     "name": "stdout",
     "output_type": "stream",
     "text": [
      "바퀴 크기:  26\n",
      "색상:  black\n"
     ]
    }
   ],
   "source": [
    "print(\"바퀴 크기: \", my_bicycle.wheel_size)\n",
    "print(\"색상: \", my_bicycle.color)"
   ]
  },
  {
   "cell_type": "code",
   "execution_count": 9,
   "metadata": {},
   "outputs": [],
   "source": [
    "class Bicycle(): #bicycle 객체 생성\n",
    "    \n",
    "    def move(self, speed):\n",
    "        print(f\"자전거: 시속 {speed}킬로미터로 전진\")\n",
    "        \n",
    "    def turn(self, direction):\n",
    "        print(f\"자전거: {direction}회전\")\n",
    "        \n",
    "    def stop(self):\n",
    "        print(f\"자전거({self.wheel_size}, {self.color}): 정지\")"
   ]
  },
  {
   "cell_type": "code",
   "execution_count": 12,
   "metadata": {
    "scrolled": true
   },
   "outputs": [
    {
     "name": "stdout",
     "output_type": "stream",
     "text": [
      "자전거: 시속 30킬로미터로 전진\n",
      "자전거: 좌회전\n",
      "자전거(26, red): 정지\n"
     ]
    }
   ],
   "source": [
    "my_bicycle = Bicycle() #Bicycle 클래스의 인스턴스인 my_bicycle 객체 생성\n",
    "\n",
    "my_bicycle.wheel_size = 26\n",
    "my_bicycle.color = 'red'\n",
    "\n",
    "my_bicycle.move(30)  #객체의 메서드 호출\n",
    "my_bicycle.turn(\"좌\")\n",
    "my_bicycle.stop()"
   ]
  },
  {
   "cell_type": "code",
   "execution_count": 15,
   "metadata": {},
   "outputs": [
    {
     "name": "stdout",
     "output_type": "stream",
     "text": [
      "자전거: 시속 20킬로미터로 전진\n",
      "자전거: 좌회전\n",
      "자전거(27, blue): 정지\n"
     ]
    }
   ],
   "source": [
    "bicycle1 = Bicycle() #Bicycle 클래스의 인스턴스인 bicycle.1 객체 생성\n",
    "\n",
    "bicycle1.wheel_size = 27\n",
    "bicycle1.color = 'blue'\n",
    "\n",
    "bicycle1.move(20)\n",
    "bicycle1.turn(\"좌\")\n",
    "bicycle1.stop()"
   ]
  },
  {
   "cell_type": "code",
   "execution_count": 16,
   "metadata": {},
   "outputs": [
    {
     "name": "stdout",
     "output_type": "stream",
     "text": [
      "자전거: 시속 15킬로미터로 전진\n",
      "자전거: 우회전\n",
      "자전거(24, kaki): 정지\n"
     ]
    }
   ],
   "source": [
    "bicycle2 = Bicycle()\n",
    "\n",
    "bicycle2.wheel_size = 24\n",
    "bicycle2.color = 'kaki'\n",
    "\n",
    "bicycle2.move(15)\n",
    "bicycle2.turn(\"우\")\n",
    "bicycle2.stop()"
   ]
  },
  {
   "cell_type": "markdown",
   "metadata": {},
   "source": [
    "#### 객체초기화"
   ]
  },
  {
   "cell_type": "code",
   "execution_count": 17,
   "metadata": {},
   "outputs": [],
   "source": [
    "class Bicycle(): #bicycle 객체 생성\n",
    "    \n",
    "    def __init__(self, wheel_size, color):\n",
    "        self.wheel_size = wheel_size\n",
    "        self.color = color\n",
    "    \n",
    "    def move(self, speed):\n",
    "        print(f\"자전거: 시속 {speed}킬로미터로 전진\")\n",
    "        \n",
    "    def turn(self, direction):\n",
    "        print(f\"자전거: {direction}회전\")\n",
    "        \n",
    "    def stop(self):\n",
    "        print(f\"자전거({self.wheel_size}, {self.color}): 정지\")"
   ]
  },
  {
   "cell_type": "code",
   "execution_count": 20,
   "metadata": {},
   "outputs": [
    {
     "name": "stdout",
     "output_type": "stream",
     "text": [
      "자전거: 시속 20킬로미터로 전진\n",
      "자전거: 좌회전\n",
      "자전거(27, blue): 정지\n"
     ]
    }
   ],
   "source": [
    "bicycle1 = Bicycle(27, 'blue')\n",
    "\n",
    "bicycle1.move(20)\n",
    "bicycle1.turn(\"좌\")\n",
    "bicycle1.stop()"
   ]
  },
  {
   "cell_type": "code",
   "execution_count": null,
   "metadata": {},
   "outputs": [],
   "source": []
  }
 ],
 "metadata": {
  "kernelspec": {
   "display_name": "Python 3",
   "language": "python",
   "name": "python3"
  },
  "language_info": {
   "codemirror_mode": {
    "name": "ipython",
    "version": 3
   },
   "file_extension": ".py",
   "mimetype": "text/x-python",
   "name": "python",
   "nbconvert_exporter": "python",
   "pygments_lexer": "ipython3",
   "version": "3.8.3"
  }
 },
 "nbformat": 4,
 "nbformat_minor": 4
}
