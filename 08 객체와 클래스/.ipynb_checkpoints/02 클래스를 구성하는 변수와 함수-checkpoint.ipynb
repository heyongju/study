{
 "cells": [
  {
   "cell_type": "markdown",
   "metadata": {},
   "source": [
    "### 클래스에서 사용하는 변수"
   ]
  },
  {
   "cell_type": "code",
   "execution_count": 3,
   "metadata": {},
   "outputs": [],
   "source": [
    "class Car():\n",
    "    instance_count = 0 #클래스 변수 생성 및 초기화\n",
    "    \n",
    "    def __init__(self, size, color):\n",
    "        self.size = size\n",
    "        self.color = color\n",
    "        Car.instance_count = Car.instance_count + 1\n",
    "        print(f\"자동차 객체의 수: {Car.instance_count}\")\n",
    "        \n",
    "    def move(self):\n",
    "        print(f\"자동차 ({self.size}, {self.color})가 움직입니다.\")"
   ]
  },
  {
   "cell_type": "code",
   "execution_count": 11,
   "metadata": {},
   "outputs": [
    {
     "name": "stdout",
     "output_type": "stream",
     "text": [
      "자동차 객체의 수: 1\n",
      "자동차 객체의 수: 2\n"
     ]
    }
   ],
   "source": [
    "car1 = Car(\"D seg\", \"blue\")\n",
    "car2 = Car(\"C seg\", \"Red\")"
   ]
  },
  {
   "cell_type": "code",
   "execution_count": 12,
   "metadata": {},
   "outputs": [
    {
     "name": "stdout",
     "output_type": "stream",
     "text": [
      "Car 클래스의 총 인스턴스 개수: 2\n"
     ]
    }
   ],
   "source": [
    "print(f\"Car 클래스의 총 인스턴스 개수: {Car.instance_count}\")"
   ]
  },
  {
   "cell_type": "code",
   "execution_count": 15,
   "metadata": {},
   "outputs": [
    {
     "name": "stdout",
     "output_type": "stream",
     "text": [
      "자동차 (D seg, blue)가 움직입니다.\n",
      "자동차 (C seg, Red)가 움직입니다.\n"
     ]
    }
   ],
   "source": [
    "car1.move()\n",
    "car2.move()"
   ]
  },
  {
   "cell_type": "code",
   "execution_count": 20,
   "metadata": {},
   "outputs": [],
   "source": [
    "class Car2():\n",
    "    count = 0 #클래스 변수 생성 및 초기화\n",
    "    \n",
    "    def __init__(self, size, num):\n",
    "        self.size = size\n",
    "        self.count = num\n",
    "        Car2.count = Car2.count + 1\n",
    "        print(f\"자동차 객체의 수: {Car2.count}\")\n",
    "        print(f\"인스턴스 변수 초기화: self.count = {self.count}\")\n",
    "        \n",
    "    def move(self):\n",
    "        print(f\"자동차 ({self.size}, {self.count})가 움직입니다.\")"
   ]
  },
  {
   "cell_type": "code",
   "execution_count": 21,
   "metadata": {},
   "outputs": [
    {
     "name": "stdout",
     "output_type": "stream",
     "text": [
      "자동차 객체의 수: 1\n",
      "인스턴스 변수 초기화: self.count = 20\n",
      "자동차 객체의 수: 2\n",
      "인스턴스 변수 초기화: self.count = 30\n"
     ]
    }
   ],
   "source": [
    "car1 = Car2(\"E seg\", 20)\n",
    "car2 = Car2(\"D seg\", 30)"
   ]
  },
  {
   "cell_type": "markdown",
   "metadata": {},
   "source": [
    "###  클래스에서 사용하는 함수"
   ]
  },
  {
   "cell_type": "markdown",
   "metadata": {},
   "source": [
    "####  인스턴스 메서드"
   ]
  },
  {
   "cell_type": "code",
   "execution_count": 35,
   "metadata": {},
   "outputs": [],
   "source": [
    "# Car 크래스 선언\n",
    "class Car():\n",
    "    instance_count = 0 #클래스 변수 생성 및 초기화\n",
    "    \n",
    "    #초기화 함수(인스턴스 메서드)\n",
    "    def __init__(self, size, color):\n",
    "        self.size = size #인스턴스 변수 생성 및 초기화\n",
    "        self.color = color\n",
    "        Car.instance_count = Car.instance_count + 1 #클래스 변수 이용\n",
    "        print(f\"자동차 객체의 수 {Car.instance_count}\")\n",
    "        \n",
    "    #인스턴스 메서드\n",
    "    def move(self, speed):\n",
    "        self.speed = speed #인스턴스 변수 생성\n",
    "        print(f'자동차({self.size}, {self.color})가 ', end='')\n",
    "        print(f'시속 {self.speed}킬로미터로 전진')\n",
    "        \n",
    "    #인스턴스 메서드\n",
    "    def auto_cruise(self):\n",
    "        print(\"자율주행모드\")\n",
    "        self.move(self.speed) #move() 함수의 인자로 인스턴스 변수를 입력"
   ]
  },
  {
   "cell_type": "code",
   "execution_count": 36,
   "metadata": {
    "scrolled": true
   },
   "outputs": [
    {
     "name": "stdout",
     "output_type": "stream",
     "text": [
      "자동차 객체의 수 1\n",
      "자동차 객체의 수 2\n",
      "자동차(C seg, red)가 시속 80킬로미터로 전진\n",
      "자동차(E seg, silver)가 시속 100킬로미터로 전진\n",
      "자율주행모드\n",
      "자동차(C seg, red)가 시속 80킬로미터로 전진\n",
      "자율주행모드\n",
      "자동차(E seg, silver)가 시속 100킬로미터로 전진\n"
     ]
    }
   ],
   "source": [
    "car1 = Car('C seg', \"red\") #객체 생성 (car1)\n",
    "car2 = Car('E seg', \"silver\") #객체생성 (car2)\n",
    "\n",
    "car1.move(80) #객체의 move() 메서드 호출\n",
    "car2.move(100)\n",
    "\n",
    "car1.auto_cruise() #객체(car1)의 auto_cruise() 메서드 호출\n",
    "car2.auto_cruise()"
   ]
  },
  {
   "cell_type": "markdown",
   "metadata": {},
   "source": [
    "####  정적 메서드"
   ]
  },
  {
   "cell_type": "code",
   "execution_count": 39,
   "metadata": {},
   "outputs": [],
   "source": [
    "# Car 클래스 선언\n",
    "class Car():\n",
    "    \n",
    "    #초기화 함수(인스턴스 메서드)\n",
    "    def __init__(self, size, color):\n",
    "        self.size = size #인스턴스 변수 생성 및 초기화\n",
    "        self.color = color\n",
    "        Car.instance_count = Car.instance_count + 1 #클래스 변수 이용\n",
    "        print(f\"자동차 객체의 수 {Car.instance_count}\")\n",
    "        \n",
    "    # 정적 메서드\n",
    "    @staticmethod\n",
    "    def check_type(model_code):\n",
    "        if(model_code >= 20):\n",
    "            print(\"이 자동차는 전기차입니다.\")\n",
    "        elif(10 <= model_code < 20):\n",
    "            print(\"이 자동차는 가솔린차입니다.\")\n",
    "        else:\n",
    "            print(\"이 자동차는 디젤차입니다.\")"
   ]
  },
  {
   "cell_type": "code",
   "execution_count": 40,
   "metadata": {},
   "outputs": [
    {
     "name": "stdout",
     "output_type": "stream",
     "text": [
      "이 자동차는 전기차입니다.\n",
      "이 자동차는 디젤차입니다.\n"
     ]
    }
   ],
   "source": [
    "Car.check_type(25)\n",
    "Car.check_type(2)"
   ]
  },
  {
   "cell_type": "markdown",
   "metadata": {},
   "source": [
    "####  클래스 메서드"
   ]
  },
  {
   "cell_type": "code",
   "execution_count": 22,
   "metadata": {},
   "outputs": [],
   "source": [
    "#Car 클래스 선언\n",
    "class Car():\n",
    "    instance_count = 0 # 클래스 변수\n",
    "    \n",
    "    #초기화 함수(인스턴스 메서드)\n",
    "    \n",
    "\n",
    "    # @staticmethod\n",
    "    def __init__(self, size, color):\n",
    "        self.size = size  #인스턴스 변수\n",
    "        self.color = color #인스턴스 변수\n",
    "        Car.instance_count = Car.instance_count + 1\n",
    "        \n",
    "    #인스턴스 메서드\n",
    "    def move(self, speed):\n",
    "        self.speed = speed #인스턴스 변수 생성\n",
    "        print(f'자동차({self.size}, {self.color})가 ', end='')\n",
    "        print(f'시속 {self.speed}킬로미터로 전진')\n",
    "        \n",
    "    #인스턴스 메서드\n",
    "    def auto_cruise(self):\n",
    "        print(\"자율주행모드\")\n",
    "        self.move(self.speed) #move() 함수의 인자로 인스턴스 변수를 입력\n",
    "\n",
    "    @staticmethod\n",
    "    def check_type(model_code):\n",
    "        if(model_code >= 20):\n",
    "            print(\"이 자동차는 전기차입니다.\")\n",
    "        elif(10 <= model_code < 20):\n",
    "            print(\"이 자동차는 가솔린차입니다.\")\n",
    "        else:\n",
    "            print(\"이 자동차는 디젤차입니다.\")\n",
    "            \n",
    "    #클래스 매서드\n",
    "    @classmethod\n",
    "    def count_instance(cls):\n",
    "        print(f\"자동차 객체의 개수: {cls.instance_count}\")"
   ]
  },
  {
   "cell_type": "code",
   "execution_count": 23,
   "metadata": {},
   "outputs": [
    {
     "name": "stdout",
     "output_type": "stream",
     "text": [
      "자동차 객체의 개수: 0\n",
      "자동차 객체의 개수: 1\n",
      "자동차 객체의 개수: 2\n"
     ]
    }
   ],
   "source": [
    "Car.count_instance()\n",
    "\n",
    "car1 = Car(\"C seg\", \"red\")\n",
    "Car.count_instance()\n",
    "\n",
    "car2 = Car(\"E seg\", \"black\")\n",
    "Car.count_instance()"
   ]
  },
  {
   "cell_type": "code",
   "execution_count": null,
   "metadata": {},
   "outputs": [],
   "source": []
  }
 ],
 "metadata": {
  "kernelspec": {
   "display_name": "Python 3",
   "language": "python",
   "name": "python3"
  },
  "language_info": {
   "codemirror_mode": {
    "name": "ipython",
    "version": 3
   },
   "file_extension": ".py",
   "mimetype": "text/x-python",
   "name": "python",
   "nbconvert_exporter": "python",
   "pygments_lexer": "ipython3",
   "version": "3.8.3"
  }
 },
 "nbformat": 4,
 "nbformat_minor": 4
}
