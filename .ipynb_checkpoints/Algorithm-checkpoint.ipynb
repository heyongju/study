{
 "cells": [
  {
   "cell_type": "code",
   "execution_count": 93,
   "metadata": {
    "scrolled": true
   },
   "outputs": [
    {
     "name": "stdout",
     "output_type": "stream",
     "text": [
      "12\n"
     ]
    }
   ],
   "source": [
    "# 두 정수 사이의 합\n",
    "def solution(a, b):\n",
    "    answer = 0\n",
    "    if a>b: a, b = b, a\n",
    "    for i in range(a, b+1):\n",
    "        answer += i\n",
    "    return answer\n",
    "print(solution(3, 5))"
   ]
  },
  {
   "cell_type": "code",
   "execution_count": 24,
   "metadata": {},
   "outputs": [
    {
     "name": "stdout",
     "output_type": "stream",
     "text": [
      "수박수\n"
     ]
    }
   ],
   "source": [
    "def solution(n):\n",
    "    return \"수박\"*(n//2) + \"수\"*(n%2)\n",
    "\n",
    "print(solution(3))"
   ]
  },
  {
   "cell_type": "code",
   "execution_count": 25,
   "metadata": {
    "scrolled": true
   },
   "outputs": [
    {
     "name": "stdout",
     "output_type": "stream",
     "text": [
      "수박수\n"
     ]
    }
   ],
   "source": [
    "def solution(n):\n",
    "    return \"수박\"*(n//2) + \"수\"*(n%2)\n",
    "\n",
    "print(solution(3))"
   ]
  },
  {
   "cell_type": "code",
   "execution_count": 26,
   "metadata": {},
   "outputs": [
    {
     "name": "stdout",
     "output_type": "stream",
     "text": [
      "n이 3인 경우: 수박수\n",
      "n이 4인 경우: 수박수박\n"
     ]
    }
   ],
   "source": [
    "def water_melon(n):\n",
    "    s = \"수박\" * n\n",
    "    return s[:n]\n",
    "\n",
    "\n",
    "# 실행을 위한 테스트코드입니다.\n",
    "print(\"n이 3인 경우: \" + water_melon(3));\n",
    "print(\"n이 4인 경우: \" + water_melon(4));"
   ]
  },
  {
   "cell_type": "code",
   "execution_count": 51,
   "metadata": {},
   "outputs": [
    {
     "name": "stdout",
     "output_type": "stream",
     "text": [
      "김서방은 1에 있다.\n"
     ]
    }
   ],
   "source": [
    "seoul = [\"jane\", \"Kim\"]\n",
    "print('김서방은 ' + str(seoul.index('Kim')) + '에 있다.')\n",
    "\n"
   ]
  },
  {
   "cell_type": "code",
   "execution_count": 57,
   "metadata": {},
   "outputs": [
    {
     "name": "stdout",
     "output_type": "stream",
     "text": [
      "김서방은 1에 있다.\n"
     ]
    }
   ],
   "source": [
    "def solution(seoul):\n",
    "    answer = '김서방은 {}에 있다.'.format(seoul.index('Kim'))\n",
    "    return answer\n",
    "\n",
    "print(solution([\"jane\", \"Kim\"]))"
   ]
  },
  {
   "cell_type": "markdown",
   "metadata": {},
   "source": [
    "###  소수 찾기"
   ]
  },
  {
   "cell_type": "code",
   "execution_count": 74,
   "metadata": {},
   "outputs": [
    {
     "name": "stdout",
     "output_type": "stream",
     "text": [
      "[2, 2, 3, 3, 4, 4, 4, 5, 5]\n",
      "3\n"
     ]
    }
   ],
   "source": [
    "n = 5\n",
    "c = []\n",
    "d = []\n",
    "for i in range(2,n+1):\n",
    "    for j in range(1,i+1):\n",
    "\n",
    "        if i % j ==0:\n",
    "            c.append(i)\n",
    "    if c.count(i) == 2:\n",
    "        d.append(i)\n",
    "print(c)\n",
    "print(len(d))"
   ]
  },
  {
   "cell_type": "code",
   "execution_count": 78,
   "metadata": {},
   "outputs": [
    {
     "data": {
      "text/plain": [
       "{2, 3, 5}"
      ]
     },
     "execution_count": 78,
     "metadata": {},
     "output_type": "execute_result"
    }
   ],
   "source": [
    "n = 5\n",
    "num = set(range(2, n+1))\n",
    "\n",
    "for i in range(2, n+1):\n",
    "    if i in num:\n",
    "        num-=set(range(2*i, n+1, i))\n",
    "        \n",
    "num"
   ]
  },
  {
   "cell_type": "markdown",
   "metadata": {},
   "source": [
    "###  예산"
   ]
  },
  {
   "cell_type": "code",
   "execution_count": 85,
   "metadata": {},
   "outputs": [
    {
     "name": "stdout",
     "output_type": "stream",
     "text": [
      "3\n"
     ]
    }
   ],
   "source": [
    "d = [1,3,2,5,4]\n",
    "b = 9\n",
    "answer = 0\n",
    "d.sort()\n",
    "\n",
    "for i in d:\n",
    "    b -= i\n",
    "    answer += 1\n",
    "    \n",
    "    if b < 0:\n",
    "        answer -= 1\n",
    "        break\n",
    "        \n",
    "print(answer)"
   ]
  },
  {
   "cell_type": "code",
   "execution_count": null,
   "metadata": {},
   "outputs": [],
   "source": []
  }
 ],
 "metadata": {
  "kernelspec": {
   "display_name": "Python 3",
   "language": "python",
   "name": "python3"
  },
  "language_info": {
   "codemirror_mode": {
    "name": "ipython",
    "version": 3
   },
   "file_extension": ".py",
   "mimetype": "text/x-python",
   "name": "python",
   "nbconvert_exporter": "python",
   "pygments_lexer": "ipython3",
   "version": "3.8.3"
  }
 },
 "nbformat": 4,
 "nbformat_minor": 4
}
