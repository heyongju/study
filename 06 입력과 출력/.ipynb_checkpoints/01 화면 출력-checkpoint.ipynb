{
 "cells": [
  {
   "cell_type": "markdown",
   "metadata": {},
   "source": [
    "### 기본 출력"
   ]
  },
  {
   "cell_type": "code",
   "execution_count": 1,
   "metadata": {},
   "outputs": [
    {
     "name": "stdout",
     "output_type": "stream",
     "text": [
      "Hi, my name is LEE\n"
     ]
    }
   ],
   "source": [
    "print('Hi,', 'my', 'name', 'is', 'LEE')"
   ]
  },
  {
   "cell_type": "code",
   "execution_count": 2,
   "metadata": {},
   "outputs": [
    {
     "name": "stdout",
     "output_type": "stream",
     "text": [
      "이용주짱천재\n"
     ]
    }
   ],
   "source": [
    "print('이용주', '천재', sep = '짱')"
   ]
  },
  {
   "cell_type": "code",
   "execution_count": 4,
   "metadata": {},
   "outputs": [
    {
     "name": "stdout",
     "output_type": "stream",
     "text": [
      "이용주집에가\n"
     ]
    }
   ],
   "source": [
    "print('이용주' + '집에가')"
   ]
  },
  {
   "cell_type": "code",
   "execution_count": 10,
   "metadata": {},
   "outputs": [
    {
     "name": "stdout",
     "output_type": "stream",
     "text": [
      "Name: james, ID Number: 789\n"
     ]
    }
   ],
   "source": [
    "name = \"james\"\n",
    "IDnum = 789\n",
    "print(\"Name:\", name+\",\",\"ID Number:\", IDnum)"
   ]
  },
  {
   "cell_type": "code",
   "execution_count": 12,
   "metadata": {},
   "outputs": [
    {
     "name": "stdout",
     "output_type": "stream",
     "text": [
      "James is my friend. \n",
      "He is Korean\n"
     ]
    }
   ],
   "source": [
    "print(\"James is my friend. \\nHe is Korean\")"
   ]
  },
  {
   "cell_type": "code",
   "execution_count": 13,
   "metadata": {},
   "outputs": [
    {
     "name": "stdout",
     "output_type": "stream",
     "text": [
      "Welcome to Python!\n"
     ]
    }
   ],
   "source": [
    "print(\"Welcome to \", end=\"\")\n",
    "print(\"Python!\")"
   ]
  },
  {
   "cell_type": "code",
   "execution_count": 19,
   "metadata": {},
   "outputs": [
    {
     "name": "stdout",
     "output_type": "stream",
     "text": [
      "010-7224-7952\n"
     ]
    }
   ],
   "source": [
    "print(\"010\", \"\", sep = \"-\", end=\"\")\n",
    "print(\"7224\", \"\", sep = \"-\", end=\"\")\n",
    "print(\"7952\")"
   ]
  },
  {
   "cell_type": "code",
   "execution_count": 32,
   "metadata": {},
   "outputs": [
    {
     "name": "stdout",
     "output_type": "stream",
     "text": [
      "이름:이용주\n",
      "연락처:010-7224-7952\n",
      "E-메일:zzdydwn@naver.com\n",
      "['이용주', '010-7224-7952', 'zzdydwn@naver.com']\n"
     ]
    }
   ],
   "source": [
    "user = []\n",
    "name = input(\"이름:\",)\n",
    "user.append(name)\n",
    "phone = input(\"연락처:\",)\n",
    "user.append(phone)\n",
    "mail = input(\"E-메일:\",)\n",
    "user.append(mail)\n",
    "print(user)"
   ]
  },
  {
   "cell_type": "code",
   "execution_count": 37,
   "metadata": {},
   "outputs": [
    {
     "name": "stdout",
     "output_type": "stream",
     "text": [
      "이름:ㅇㅇㅇ\n",
      "나이:23\n",
      "['ㅇㅇㅇ', '23']\n"
     ]
    },
    {
     "data": {
      "text/plain": [
       "list"
      ]
     },
     "execution_count": 37,
     "metadata": {},
     "output_type": "execute_result"
    }
   ],
   "source": [
    "user = []\n",
    "name = input(\"이름:\",)\n",
    "user.append(name)\n",
    "age = input(\"나이:\",)\n",
    "user.append(age)\n",
    "print(user)\n",
    "type(user)"
   ]
  },
  {
   "cell_type": "code",
   "execution_count": 14,
   "metadata": {},
   "outputs": [
    {
     "name": "stdout",
     "output_type": "stream",
     "text": [
      "아이디 zzdydwn\n",
      "비밀번호 1231w\n"
     ]
    },
    {
     "ename": "KeyError",
     "evalue": "'1231w'",
     "output_type": "error",
     "traceback": [
      "\u001b[1;31m---------------------------------------------------------------------------\u001b[0m",
      "\u001b[1;31mKeyError\u001b[0m                                  Traceback (most recent call last)",
      "\u001b[1;32m<ipython-input-14-cd9f385f4bbd>\u001b[0m in \u001b[0;36m<module>\u001b[1;34m\u001b[0m\n\u001b[0;32m      6\u001b[0m     \u001b[0mPW\u001b[0m \u001b[1;33m=\u001b[0m \u001b[0minput\u001b[0m\u001b[1;33m(\u001b[0m\u001b[1;34m\"비밀번호 \"\u001b[0m\u001b[1;33m)\u001b[0m\u001b[1;33m\u001b[0m\u001b[1;33m\u001b[0m\u001b[0m\n\u001b[0;32m      7\u001b[0m \u001b[1;33m\u001b[0m\u001b[0m\n\u001b[1;32m----> 8\u001b[1;33m     \u001b[1;32mif\u001b[0m \u001b[0mID\u001b[0m \u001b[1;32min\u001b[0m \u001b[0muser\u001b[0m \u001b[1;32mand\u001b[0m \u001b[0mID\u001b[0m \u001b[1;33m==\u001b[0m \u001b[0muser2\u001b[0m\u001b[1;33m[\u001b[0m\u001b[0mPW\u001b[0m\u001b[1;33m]\u001b[0m\u001b[1;33m:\u001b[0m\u001b[1;33m\u001b[0m\u001b[1;33m\u001b[0m\u001b[0m\n\u001b[0m\u001b[0;32m      9\u001b[0m         \u001b[0mprint\u001b[0m\u001b[1;33m(\u001b[0m\u001b[1;34m\"안녕하세요\"\u001b[0m\u001b[1;33m)\u001b[0m\u001b[1;33m\u001b[0m\u001b[1;33m\u001b[0m\u001b[0m\n\u001b[0;32m     10\u001b[0m         \u001b[1;32mbreak\u001b[0m\u001b[1;33m\u001b[0m\u001b[1;33m\u001b[0m\u001b[0m\n",
      "\u001b[1;31mKeyError\u001b[0m: '1231w'"
     ]
    }
   ],
   "source": [
    "user = {\"zzdydwn\" : \"1q2w3e4r\"}\n",
    "user2 = {\"1q2w3e4r\" : \"zzdydwn\"}\n",
    "\n",
    "while True:\n",
    "    ID = input(\"아이디 \")\n",
    "    PW = input(\"비밀번호 \")\n",
    "\n",
    "    if ID in user and ID == user2[PW]:\n",
    "        print(\"안녕하세요\")\n",
    "        break\n",
    "\n",
    "    else:\n",
    "        print(\"아이디와 비밀번호를 다시 입력하세요\")\n"
   ]
  },
  {
   "cell_type": "markdown",
   "metadata": {},
   "source": [
    "### 형식 지정 출력"
   ]
  },
  {
   "cell_type": "markdown",
   "metadata": {},
   "source": [
    "#### 나머지 연산자(%)를 이용한 형식 및 위치 지정"
   ]
  },
  {
   "cell_type": "code",
   "execution_count": 38,
   "metadata": {},
   "outputs": [
    {
     "name": "stdout",
     "output_type": "stream",
     "text": [
      "민채는 나의 친구입니다.\n"
     ]
    }
   ],
   "source": [
    "name = \"민채\"\n",
    "print(\"%s는 나의 친구입니다.\" % name)"
   ]
  },
  {
   "cell_type": "code",
   "execution_count": 39,
   "metadata": {},
   "outputs": [
    {
     "name": "stdout",
     "output_type": "stream",
     "text": [
      "반지름: 3, 원주율: 3.141593\n"
     ]
    }
   ],
   "source": [
    "r = 3 # 변수 r에 정수 데이터 할당\n",
    "PI = 3.14159265359879 # 변수 PI에 실수 데이터 할당\n",
    "print(\"반지름: %d, 원주율: %f\" % (r, PI))"
   ]
  },
  {
   "cell_type": "markdown",
   "metadata": {},
   "source": [
    "#### 형식 지정 문자열에서 출력 위치 지정"
   ]
  },
  {
   "cell_type": "code",
   "execution_count": 42,
   "metadata": {},
   "outputs": [
    {
     "name": "stdout",
     "output_type": "stream",
     "text": [
      "Animal: cat\n",
      "Animal: cat, dog, fox\n"
     ]
    }
   ],
   "source": [
    "animal_0 = \"cat\"\n",
    "animal_1 = \"dog\"\n",
    "animal_2 = \"fox\"\n",
    "\n",
    "print(\"Animal: {0}\".format(animal_0))\n",
    "print(\"Animal: {0}, {1}, {2}\".format(animal_0, animal_1, animal_2))"
   ]
  },
  {
   "cell_type": "code",
   "execution_count": 46,
   "metadata": {},
   "outputs": [
    {
     "name": "stdout",
     "output_type": "stream",
     "text": [
      "Animal: cat\n",
      "Animal: cat, dog, fox\n"
     ]
    }
   ],
   "source": [
    "animal_0 = \"cat\"\n",
    "animal_1 = \"dog\"\n",
    "animal_2 = \"fox\"\n",
    "\n",
    "print(\"Animal: {0}\".format(animal_0))\n",
    "print(\"Animal: {}, {}, {}\".format(animal_0, animal_1, animal_2))"
   ]
  },
  {
   "cell_type": "code",
   "execution_count": 48,
   "metadata": {},
   "outputs": [
    {
     "name": "stdout",
     "output_type": "stream",
     "text": [
      "Stirng: LEE, Integer Number: 28, Floating Number: 0.1072247952\n"
     ]
    },
    {
     "data": {
      "text/plain": [
       "str"
      ]
     },
     "execution_count": 48,
     "metadata": {},
     "output_type": "execute_result"
    }
   ],
   "source": [
    "name = \"LEE\"\n",
    "age = 28\n",
    "a = 0.1072247952\n",
    "\n",
    "fmt_string = \"Stirng: {0}, Integer Number: {1}, Floating Number: {2}\"\n",
    "print(fmt_string.format(name, age, a))"
   ]
  },
  {
   "cell_type": "markdown",
   "metadata": {},
   "source": [
    "#### 형식 지정 문자열에서 숫자 출력 형식 지정"
   ]
  },
  {
   "cell_type": "code",
   "execution_count": 54,
   "metadata": {},
   "outputs": [
    {
     "name": "stdout",
     "output_type": "stream",
     "text": [
      " 0.12,  0.12346\n"
     ]
    }
   ],
   "source": [
    "a = 0.123456789123456789\n",
    "print(\"{0: .2f}, {0: .5f}\".format(a))"
   ]
  },
  {
   "cell_type": "code",
   "execution_count": 75,
   "metadata": {},
   "outputs": [
    {
     "name": "stdout",
     "output_type": "stream",
     "text": [
      "3 \n"
     ]
    }
   ],
   "source": [
    "x = 3\n",
    "print(\"{0:<2d}\".format(x))"
   ]
  },
  {
   "cell_type": "code",
   "execution_count": 77,
   "metadata": {},
   "outputs": [
    {
     "name": "stdout",
     "output_type": "stream",
     "text": [
      "00003\n"
     ]
    }
   ],
   "source": [
    "x = 3\n",
    "print(\"{0:05d}\".format(x))"
   ]
  },
  {
   "cell_type": "code",
   "execution_count": 78,
   "metadata": {},
   "outputs": [
    {
     "name": "stdout",
     "output_type": "stream",
     "text": [
      "    3\n"
     ]
    }
   ],
   "source": [
    "x = 3\n",
    "print(\"{0:>5d}\".format(x))"
   ]
  },
  {
   "cell_type": "code",
   "execution_count": 79,
   "metadata": {},
   "outputs": [
    {
     "name": "stdout",
     "output_type": "stream",
     "text": [
      "0.123\n"
     ]
    }
   ],
   "source": [
    "x = 0.12345\n",
    "print(\"{0:.3f}\".format(x))"
   ]
  },
  {
   "cell_type": "code",
   "execution_count": 103,
   "metadata": {},
   "outputs": [
    {
     "name": "stdout",
     "output_type": "stream",
     "text": [
      "7,456,000\n"
     ]
    }
   ],
   "source": [
    "x = 7456000\n",
    "print(\"{0:,}\".format(x))"
   ]
  },
  {
   "cell_type": "code",
   "execution_count": 86,
   "metadata": {},
   "outputs": [
    {
     "name": "stdout",
     "output_type": "stream",
     "text": [
      "32.6%\n"
     ]
    }
   ],
   "source": [
    "x = 0.3258\n",
    "print(\"{0:.1%}\".format(x))"
   ]
  },
  {
   "cell_type": "code",
   "execution_count": 106,
   "metadata": {},
   "outputs": [
    {
     "name": "stdout",
     "output_type": "stream",
     "text": [
      "7.46e+06\n"
     ]
    }
   ],
   "source": [
    "9250000000000\n",
    "print(\"{0:.2e}\".format(x))"
   ]
  },
  {
   "cell_type": "code",
   "execution_count": 95,
   "metadata": {},
   "outputs": [
    {
     "name": "stdout",
     "output_type": "stream",
     "text": [
      "0x10\n"
     ]
    }
   ],
   "source": [
    "x = 16\n",
    "print(\"{0:#x}\".format(x))  ## '#'이 없으면 0x없이 출력 됨(이하 동일)"
   ]
  },
  {
   "cell_type": "code",
   "execution_count": 99,
   "metadata": {},
   "outputs": [
    {
     "name": "stdout",
     "output_type": "stream",
     "text": [
      "0o10\n"
     ]
    }
   ],
   "source": [
    "x = 8\n",
    "print(\"{0:#o}\".format(x))"
   ]
  },
  {
   "cell_type": "code",
   "execution_count": 100,
   "metadata": {},
   "outputs": [
    {
     "name": "stdout",
     "output_type": "stream",
     "text": [
      "0b10\n"
     ]
    }
   ],
   "source": [
    "x= 2\n",
    "print(\"{0:#b}\".format(x))"
   ]
  },
  {
   "cell_type": "code",
   "execution_count": null,
   "metadata": {},
   "outputs": [],
   "source": []
  }
 ],
 "metadata": {
  "kernelspec": {
   "display_name": "Python 3",
   "language": "python",
   "name": "python3"
  },
  "language_info": {
   "codemirror_mode": {
    "name": "ipython",
    "version": 3
   },
   "file_extension": ".py",
   "mimetype": "text/x-python",
   "name": "python",
   "nbconvert_exporter": "python",
   "pygments_lexer": "ipython3",
   "version": "3.8.3"
  }
 },
 "nbformat": 4,
 "nbformat_minor": 4
}
