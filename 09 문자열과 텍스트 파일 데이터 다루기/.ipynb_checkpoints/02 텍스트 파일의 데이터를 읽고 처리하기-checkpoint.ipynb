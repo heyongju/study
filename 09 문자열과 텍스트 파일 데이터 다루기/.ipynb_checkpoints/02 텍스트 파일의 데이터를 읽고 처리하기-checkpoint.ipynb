{
 "cells": [
  {
   "cell_type": "markdown",
   "metadata": {},
   "source": [
    "### 데이터 파일 준비 및 읽기"
   ]
  },
  {
   "cell_type": "code",
   "execution_count": 8,
   "metadata": {},
   "outputs": [
    {
     "name": "stdout",
     "output_type": "stream",
     "text": [
      "[WinError 2] 지정된 파일을 찾을 수 없습니다: 'data'\n",
      "C:\\myPycode\\data\n"
     ]
    }
   ],
   "source": [
    "cd C:/myPycode/"
   ]
  },
  {
   "cell_type": "code",
   "execution_count": 7,
   "metadata": {},
   "outputs": [
    {
     "name": "stdout",
     "output_type": "stream",
     "text": [
      "날짜    에스프레소  아메리카노  카페라테  카푸치노\n",
      "10.15       10  \t50         45       20   \n",
      "10.16       12\t\t45         41       18\n",
      "10.17       11\t\t53         32       25\n",
      "10.18       15\t\t49         38       22\n"
     ]
    }
   ],
   "source": [
    "!type coffeeShopSales.txt"
   ]
  },
  {
   "cell_type": "code",
   "execution_count": 12,
   "metadata": {},
   "outputs": [
    {
     "name": "stdout",
     "output_type": "stream",
     "text": [
      "날짜    에스프레소  아메리카노  카페라테  카푸치노\n",
      "10.15       10  \t50         45       20   \n",
      "10.16       12\t\t45         41       18\n",
      "10.17       11\t\t53         32       25\n",
      "10.18       15\t\t49         38       22"
     ]
    }
   ],
   "source": [
    "file_name = 'c:/myPycode/data/coffeeShopSales.txt'\n",
    "\n",
    "f = open(file_name)\n",
    "for line in f:\n",
    "    print(line, end = '')\n",
    "f.close()"
   ]
  },
  {
   "cell_type": "markdown",
   "metadata": {},
   "source": [
    "###  파일에서 읽은 문자열 데이터 처리"
   ]
  },
  {
   "cell_type": "code",
   "execution_count": 33,
   "metadata": {},
   "outputs": [
    {
     "name": "stdout",
     "output_type": "stream",
     "text": [
      "날짜    에스프레소  아메리카노  카페라테  카푸치노\n",
      "\n",
      "['날짜', '에스프레소', '아메리카노', '카페라테', '카푸치노']\n",
      "['10.15', '10', '50', '45', '20']\n",
      "['10.16', '12', '45', '41', '18']\n",
      "['10.17', '11', '53', '32', '25']\n",
      "['10.18', '15', '49', '38', '22']\n"
     ]
    },
    {
     "data": {
      "text/plain": [
       "<function TextIOWrapper.close()>"
      ]
     },
     "execution_count": 33,
     "metadata": {},
     "output_type": "execute_result"
    }
   ],
   "source": [
    "f = open(file_name)\n",
    "header = f.readline()\n",
    "print(header)\n",
    "\n",
    "header_list = header.split()\n",
    "print(header_list)\n",
    "\n",
    "for line in f:\n",
    "    data_list = line.split()\n",
    "    print(data_list)\n",
    "    \n",
    "f.close"
   ]
  },
  {
   "cell_type": "code",
   "execution_count": 45,
   "metadata": {},
   "outputs": [
    {
     "name": "stdout",
     "output_type": "stream",
     "text": [
      "에스프레소: [10, 12, 11, 15]\n",
      "아메리카노: [50, 45, 53, 49]\n",
      "카페라테: [45, 41, 32, 38]\n",
      "카푸치노: [20, 18, 25, 22]\n"
     ]
    }
   ],
   "source": [
    "f = open(file_name)\n",
    "header = f.readline()\n",
    "headerList = header.split() #'날짜', '에스프레소', '아메리카노', '카페라떼', '카푸치노'\n",
    "\n",
    "espresso = []\n",
    "americano = []\n",
    "cafelatte = []\n",
    "cappucino = []\n",
    "\n",
    "\n",
    "for line in f:\n",
    "    dataList = line.split()\n",
    "    \n",
    "    espresso.append(int(dataList[1]))\n",
    "    americano.append(int(dataList[2]))\n",
    "    cafelatte.append(int(dataList[3]))\n",
    "    cappucino.append(int(dataList[4]))\n",
    "\n",
    "f.close()\n",
    "\n",
    "print(f\"{headerList[1]}: {espresso}\")\n",
    "print(f\"{headerList[2]}: {americano}\")\n",
    "print(f\"{headerList[3]}: {cafelatte}\")\n",
    "print(f\"{headerList[4]}: {cappucino}\")"
   ]
  },
  {
   "cell_type": "code",
   "execution_count": 52,
   "metadata": {
    "scrolled": true
   },
   "outputs": [
    {
     "name": "stdout",
     "output_type": "stream",
     "text": [
      "[에스프레소 판매량]\n",
      "- 나흘 전체: 48, 하루 평균: 12.0 \n",
      "\n",
      "[아메리카노 판매량]\n",
      "- 나흘 전체: 197, 하루 평균: 49.25 \n",
      "\n",
      "[카페라테 판매량]\n",
      "- 나흘 전체: 156, 하루 평균: 39.0 \n",
      "\n",
      "[카푸치노 판매량]\n",
      "- 나흘 전체: 85, 하루 평균: 21.25 \n",
      "\n"
     ]
    }
   ],
   "source": [
    "total_sum = [sum(espresso), sum(americano), sum(cafelatte), sum(cappucino)]\n",
    "total_mean =[sum(espresso)/len(espresso), sum(americano)/len(americano), \n",
    "            sum(cafelatte)/len(cafelatte), sum(cappucino)/len(cappucino)]\n",
    "\n",
    "for k in range(len(total_sum)):\n",
    "    print(f\"[{headerList[k+1]} 판매량]\")\n",
    "    print(f\"- 나흘 전체: {total_sum[k]}, 하루 평균: {total_mean[k]}\", '\\n')"
   ]
  },
  {
   "cell_type": "code",
   "execution_count": null,
   "metadata": {},
   "outputs": [],
   "source": []
  }
 ],
 "metadata": {
  "kernelspec": {
   "display_name": "Python 3",
   "language": "python",
   "name": "python3"
  },
  "language_info": {
   "codemirror_mode": {
    "name": "ipython",
    "version": 3
   },
   "file_extension": ".py",
   "mimetype": "text/x-python",
   "name": "python",
   "nbconvert_exporter": "python",
   "pygments_lexer": "ipython3",
   "version": "3.8.3"
  }
 },
 "nbformat": 4,
 "nbformat_minor": 4
}
