{
 "cells": [
  {
   "cell_type": "markdown",
   "metadata": {},
   "source": [
    "### 간단하게 반복하는 한 줄 for문"
   ]
  },
  {
   "cell_type": "code",
   "execution_count": 1,
   "metadata": {},
   "outputs": [
    {
     "name": "stdout",
     "output_type": "stream",
     "text": [
      "[1, 4, 9, 16, 25]\n"
     ]
    }
   ],
   "source": [
    "numbers = [1, 2, 3, 4, 5]\n",
    "square = []\n",
    "\n",
    "for i in numbers:\n",
    "    square.append(i**2)\n",
    "    \n",
    "print(square)"
   ]
  },
  {
   "cell_type": "code",
   "execution_count": 2,
   "metadata": {},
   "outputs": [
    {
     "name": "stdout",
     "output_type": "stream",
     "text": [
      "[1, 4, 9, 16, 25]\n"
     ]
    }
   ],
   "source": [
    "numbers = [1, 2, 3, 4, 5]\n",
    "square = [i**2 for i in numbers]\n",
    "print(square)"
   ]
  },
  {
   "cell_type": "code",
   "execution_count": 4,
   "metadata": {},
   "outputs": [
    {
     "name": "stdout",
     "output_type": "stream",
     "text": [
      "[9, 16, 25]\n"
     ]
    }
   ],
   "source": [
    "numbers = [1, 2, 3, 4, 5]\n",
    "square = []\n",
    "\n",
    "for i in numbers:\n",
    "    if i>= 3:\n",
    "        square.append(i**2)\n",
    "        \n",
    "print(square)"
   ]
  },
  {
   "cell_type": "code",
   "execution_count": 5,
   "metadata": {},
   "outputs": [
    {
     "name": "stdout",
     "output_type": "stream",
     "text": [
      "[9, 16, 25]\n"
     ]
    }
   ],
   "source": [
    "numbers = [1, 2, 3, 4, 5]\n",
    "square = [i**2 for i in numbers if i>= 3]\n",
    "print(square)"
   ]
  },
  {
   "cell_type": "code",
   "execution_count": 20,
   "metadata": {},
   "outputs": [
    {
     "name": "stdout",
     "output_type": "stream",
     "text": [
      "한식\n",
      "된장찌개\n"
     ]
    }
   ],
   "source": [
    "import random\n",
    "중식 = ['짜장면', '짬뽕', '볶음밥', '마라탕', '마라샹궈', '양꼬치', '탕수육']\n",
    "일식 = ['초밥', '우동', '돈부리', '규동', '라멘', '타코야끼']\n",
    "양식 = ['파스타', '스테이크', '피자', '리조또', '바비큐', '빠에야', '라자냐']\n",
    "디저트 = ['커피', '에이드', '아이스크림', '마카롱', '핫초코', '브라우니', '빵']\n",
    "\n",
    "\n",
    "a= input()\n",
    "if a == 한식:\n",
    "    한식 = ['순두부 찌개', '제육볶음', '된장찌개', '비빔밥', '김치볶음밥']\n",
    "    choice = random.choice(한식)\n",
    "    del 한식[choice]\n",
    "print(choice)"
   ]
  },
  {
   "cell_type": "code",
   "execution_count": 83,
   "metadata": {},
   "outputs": [
    {
     "data": {
      "text/plain": [
       "['순두부 찌개', '제육볶음', '된장찌개', '비빔밥', '김치볶음밥']"
      ]
     },
     "execution_count": 83,
     "metadata": {},
     "output_type": "execute_result"
    }
   ],
   "source": [
    "list(한식)"
   ]
  },
  {
   "cell_type": "code",
   "execution_count": 116,
   "metadata": {},
   "outputs": [
    {
     "data": {
      "text/plain": [
       "5"
      ]
     },
     "execution_count": 116,
     "metadata": {},
     "output_type": "execute_result"
    }
   ],
   "source": [
    ">>> import random\n",
    ">>> random.randrange(1,10)\n"
   ]
  },
  {
   "cell_type": "code",
   "execution_count": 5,
   "metadata": {},
   "outputs": [
    {
     "name": "stdout",
     "output_type": "stream",
     "text": [
      "한식, 중식, 일식, 양식, 디저트1\n",
      "제육볶음\n"
     ]
    }
   ],
   "source": [
    "import random\n",
    "한식 = ['순두부 찌개', '제육볶음', '된장찌개', '비빔밥', '김치볶음밥']\n",
    "중식 = ['짜장면', '짬뽕', '볶음밥', '마라탕', '마라샹궈']\n",
    "일식 = ['초밥', '우동', '돈부리', '규동', '라멘']\n",
    "양식 = ['파스타', '스테이크', '피자', '리조또', '바비큐']\n",
    "디저트 = ['커피', '에이드', '아이스크림', '마카롱', '핫초코']\n",
    "\n",
    "a = input(\"한식, 중식, 일식, 양식, 디저트\")\n",
    "a = int(a)\n",
    "if a == 1:\n",
    "    print(random.choice(한식))\n"
   ]
  },
  {
   "cell_type": "code",
   "execution_count": 21,
   "metadata": {},
   "outputs": [
    {
     "name": "stdout",
     "output_type": "stream",
     "text": [
      "점심머먹지?1\n",
      "순대국\n"
     ]
    }
   ],
   "source": [
    "import random\n",
    "x=['순대국','설렁탕','순두부']\n",
    "y=['짜장면','볶음밥','짬뽕']\n",
    "z=['돈까스', '우동', '모밀']\n",
    "lunch= input(\"점심머먹지?\")\n",
    "lunch=int(lunch)\n",
    "if lunch==1:\n",
    "    print(random.choice(x))\n",
    "elif lunch==2:\n",
    "    print(random.choice(y))\n",
    "elif lunch==3:\n",
    "    print(random.choice(z))\n",
    "else:\n",
    "    print(\"다시\")"
   ]
  },
  {
   "cell_type": "code",
   "execution_count": null,
   "metadata": {},
   "outputs": [],
   "source": []
  }
 ],
 "metadata": {
  "kernelspec": {
   "display_name": "Python 3",
   "language": "python",
   "name": "python3"
  },
  "language_info": {
   "codemirror_mode": {
    "name": "ipython",
    "version": 3
   },
   "file_extension": ".py",
   "mimetype": "text/x-python",
   "name": "python",
   "nbconvert_exporter": "python",
   "pygments_lexer": "ipython3",
   "version": "3.8.3"
  }
 },
 "nbformat": 4,
 "nbformat_minor": 4
}
