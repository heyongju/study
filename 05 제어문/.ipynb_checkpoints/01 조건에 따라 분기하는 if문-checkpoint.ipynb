{
 "cells": [
  {
   "cell_type": "markdown",
   "metadata": {},
   "source": [
    "### 단일 조건에 따른 분기(if)"
   ]
  },
  {
   "cell_type": "code",
   "execution_count": 6,
   "metadata": {},
   "outputs": [
    {
     "name": "stdout",
     "output_type": "stream",
     "text": [
      "80\n",
      "아쉽네요\n",
      "당신은 불합격입니다.\n"
     ]
    }
   ],
   "source": [
    "x = int(input())\n",
    "if x >= 90:\n",
    "    print(\"축하합니다.\")\n",
    "    print(\"당신은 합격입니다.\")\n",
    "else:\n",
    "    print(\"아쉽네요\")\n",
    "    print(\"당신은 불합격입니다.\")"
   ]
  },
  {
   "cell_type": "markdown",
   "metadata": {},
   "source": [
    "### 여러 조건에 따른 분기"
   ]
  },
  {
   "cell_type": "code",
   "execution_count": 11,
   "metadata": {},
   "outputs": [
    {
     "name": "stdout",
     "output_type": "stream",
     "text": [
      "점수를 입력하세요. 65\n",
      "고생하셨습니다\n",
      "D 입니다.\n",
      "재수강하시기 바랍니다.\n"
     ]
    }
   ],
   "source": [
    "x = int(input(\"점수를 입력하세요. \"))\n",
    "if x >= 90:  ##A학점 범위\n",
    "    if x >=97:\n",
    "        print(\"축하합니다.\")\n",
    "        print(\"A+ 입니다.\")\n",
    "    \n",
    "    elif 97 > x > 93:\n",
    "        print(\"축하합니다\")\n",
    "        print(\"A 입니다.\")\n",
    "    \n",
    "    else :\n",
    "        print(\"축하합니다.\")\n",
    "        print(\"A- 입니다.\")\n",
    "    \n",
    "elif 80 <= x < 90:  ##B학점 계산\n",
    "    if 90 > x > 86:\n",
    "        print(\"잘하셨습니다.\")\n",
    "        print(\"B+ 입니다.\")\n",
    "    \n",
    "    elif 86 > x > 83:\n",
    "        print(\"잘하셨습니다.\")\n",
    "        print(\"B 입니다.\")\n",
    "        \n",
    "    else:\n",
    "        print(\"잘하셨습니다.\")\n",
    "        print(\"B- 입니다.\")\n",
    "        \n",
    "elif 70 <= x < 80: ##C학점 계산\n",
    "    if 80 > x > 76:\n",
    "        print(\"잘하셨습니다.\")\n",
    "        print(\"C+ 입니다.\")\n",
    "    \n",
    "    elif 76 > x > 73:\n",
    "        print(\"잘하셨습니다.\")\n",
    "        print(\"C 입니다.\")\n",
    "        \n",
    "    else:\n",
    "        print(\"잘하셨습니다.\")\n",
    "        print(\"C- 입니다.\")\n",
    "        \n",
    "elif 60 <= x < 70: ##D학점 계산\n",
    "    if 70 > x > 66:\n",
    "        print(\"고생하셨습니다\")\n",
    "        print(\"D+ 입니다.\")\n",
    "    \n",
    "    elif 66 > x > 63:\n",
    "        print(\"고생하셨습니다\")\n",
    "        print(\"D 입니다.\")\n",
    "        \n",
    "    else:\n",
    "        print(\"고생하셨습니다\")\n",
    "        print(\"D- 입니다.\")\n",
    "else:\n",
    "    print(\"F 입니다.\")\n",
    "    \n",
    "if x < 70:\n",
    "    print(\"재수강하시기 바랍니다.\")"
   ]
  },
  {
   "cell_type": "code",
   "execution_count": null,
   "metadata": {},
   "outputs": [],
   "source": [
    "score_list=list(\"ABCDF\")\n",
    "score_grade=[\"-\",\"\",\"+\",\"+\"]\n",
    "score=100\n",
    "if score==100:\n",
    "    print(\"A+\")\n",
    "elif score>=60:\n",
    "    print(score_list[9-int(score/10)]+score_grade[score%10//3])\n",
    "else:\n",
    "    print(\"F\")"
   ]
  }
 ],
 "metadata": {
  "kernelspec": {
   "display_name": "Python 3",
   "language": "python",
   "name": "python3"
  },
  "language_info": {
   "codemirror_mode": {
    "name": "ipython",
    "version": 3
   },
   "file_extension": ".py",
   "mimetype": "text/x-python",
   "name": "python",
   "nbconvert_exporter": "python",
   "pygments_lexer": "ipython3",
   "version": "3.8.3"
  }
 },
 "nbformat": 4,
 "nbformat_minor": 4
}
