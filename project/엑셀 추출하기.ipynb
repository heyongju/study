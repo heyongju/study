{
 "cells": [
  {
   "cell_type": "code",
   "execution_count": 55,
   "metadata": {},
   "outputs": [
    {
     "data": {
      "text/html": [
       "<div>\n",
       "<style scoped>\n",
       "    .dataframe tbody tr th:only-of-type {\n",
       "        vertical-align: middle;\n",
       "    }\n",
       "\n",
       "    .dataframe tbody tr th {\n",
       "        vertical-align: top;\n",
       "    }\n",
       "\n",
       "    .dataframe thead th {\n",
       "        text-align: right;\n",
       "    }\n",
       "</style>\n",
       "<table border=\"1\" class=\"dataframe\">\n",
       "  <thead>\n",
       "    <tr style=\"text-align: right;\">\n",
       "      <th></th>\n",
       "      <th>이름</th>\n",
       "      <th>소속팀</th>\n",
       "      <th>이닝</th>\n",
       "      <th>FIP</th>\n",
       "      <th>LOB%</th>\n",
       "      <th>K-BB%</th>\n",
       "      <th>평속</th>\n",
       "      <th>Zone%</th>\n",
       "      <th>연봉</th>\n",
       "    </tr>\n",
       "  </thead>\n",
       "  <tbody>\n",
       "    <tr>\n",
       "      <th>3</th>\n",
       "      <td>구승민</td>\n",
       "      <td>18롯</td>\n",
       "      <td>73.2</td>\n",
       "      <td>5.06</td>\n",
       "      <td>79.5</td>\n",
       "      <td>14.3</td>\n",
       "      <td>144.5</td>\n",
       "      <td>45.4</td>\n",
       "      <td>3400</td>\n",
       "    </tr>\n",
       "  </tbody>\n",
       "</table>\n",
       "</div>"
      ],
      "text/plain": [
       "    이름  소속팀    이닝   FIP  LOB%  K-BB%     평속  Zone%    연봉\n",
       "3  구승민  18롯  73.2  5.06  79.5   14.3  144.5   45.4  3400"
      ]
     },
     "execution_count": 55,
     "metadata": {},
     "output_type": "execute_result"
    }
   ],
   "source": [
    "import pandas as pd\n",
    "\n",
    "df = pd.read_excel('C:/Users/Playdata/Desktop/18-20 투수 종합(연봉+팀추가).xlsx', sheet_name = '2018_pitcher') \n",
    "\n",
    "info = df[df['이름'].isin(['구승민'])]  # isin을 사용하면 isin안에 필터할 값들을 넣으면 된다.\n",
    "info"
   ]
  },
  {
   "cell_type": "code",
   "execution_count": null,
   "metadata": {},
   "outputs": [],
   "source": []
  }
 ],
 "metadata": {
  "kernelspec": {
   "display_name": "Python 3",
   "language": "python",
   "name": "python3"
  },
  "language_info": {
   "codemirror_mode": {
    "name": "ipython",
    "version": 3
   },
   "file_extension": ".py",
   "mimetype": "text/x-python",
   "name": "python",
   "nbconvert_exporter": "python",
   "pygments_lexer": "ipython3",
   "version": "3.8.3"
  }
 },
 "nbformat": 4,
 "nbformat_minor": 4
}
