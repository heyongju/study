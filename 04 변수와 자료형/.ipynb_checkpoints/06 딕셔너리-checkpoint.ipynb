{
 "cells": [
  {
   "cell_type": "markdown",
   "metadata": {},
   "source": [
    "### 딕셔너리 만들기"
   ]
  },
  {
   "cell_type": "code",
   "execution_count": 17,
   "metadata": {},
   "outputs": [
    {
     "name": "stdout",
     "output_type": "stream",
     "text": [
      "스페인\n",
      "마드리드\n"
     ]
    }
   ],
   "source": [
    "capital = {\"영국\" : \"런던\", \"프랑스\" : \"파리\", \"오스트리아\" : \"뷘\", \"스페인\" : \"마드리드\"}\n",
    "a = input()\n",
    "if a in capital:\n",
    "    print(capital[a])"
   ]
  },
  {
   "cell_type": "code",
   "execution_count": 30,
   "metadata": {},
   "outputs": [
    {
     "name": "stdout",
     "output_type": "stream",
     "text": [
      "택시\n"
     ]
    }
   ],
   "source": [
    "dict_data1 = {1:\"버스\", 3: \"비행기\", 4: \"택시\", 5: \"자전거\"}\n",
    "print(dict_data1[4])"
   ]
  },
  {
   "cell_type": "code",
   "execution_count": 32,
   "metadata": {},
   "outputs": [
    {
     "name": "stdout",
     "output_type": "stream",
     "text": [
      "{1: 10, 2: 20, 3: 30, 4: 40, 5: 50}\n",
      "40\n"
     ]
    }
   ],
   "source": [
    "dict_data2 = {1:10 , 2:20, 3:30, 4:40, 5:50}\n",
    "print(dict_data2)\n",
    "print(dict_data2[4])"
   ]
  },
  {
   "cell_type": "code",
   "execution_count": 35,
   "metadata": {},
   "outputs": [
    {
     "name": "stdout",
     "output_type": "stream",
     "text": [
      "{'list_data1': [11, 12, 13], 'list_data2': [21, 22, 23]}\n",
      "[21, 22, 23]\n"
     ]
    }
   ],
   "source": [
    "dict_data3 = {\"list_data1\" : [11, 12, 13], \"list_data2\" : [21, 22, 23]}\n",
    "print(dict_data3)\n",
    "print(dict_data3[\"list_data2\"])"
   ]
  },
  {
   "cell_type": "code",
   "execution_count": 45,
   "metadata": {},
   "outputs": [
    {
     "name": "stdout",
     "output_type": "stream",
     "text": [
      "{1: 10, 'dict_num': {1: 10, 2: 20}, 'dict_list_tuple': {'A': [11, 12, 13], 'B': [21, 22, 23]}, 'dict_string': '이것은 책입니다.'}\n"
     ]
    }
   ],
   "source": [
    "mixed_dict = {1:10, 'dict_num': {1:10, 2:20}, \"dict_list_tuple\": {\"A\": [11, 12, 13], \n",
    "              \"B\" : [21, 22, 23]}, \"dict_string\" : \"이것은 책입니다.\" }\n",
    "print(mixed_dict)"
   ]
  },
  {
   "cell_type": "markdown",
   "metadata": {},
   "source": [
    "### 딕셔너리 다루기"
   ]
  },
  {
   "cell_type": "code",
   "execution_count": 7,
   "metadata": {},
   "outputs": [
    {
     "name": "stdout",
     "output_type": "stream",
     "text": [
      "{'영국': '런던', '프랑스': '파리', '오스트리아': '뷘', '스페인': '바르셀로나'}\n",
      "{'영국': '런던', '프랑스': '파리', '오스트리아': '뷘', '스페인': '마드리드'}\n"
     ]
    }
   ],
   "source": [
    "capital = {\"영국\" : \"런던\", \"프랑스\" : \"파리\", \"오스트리아\" : \"뷘\", \"스페인\" : \"바르셀로나\"}\n",
    "print(capital)\n",
    "capital[\"스페인\"] = \"마드리드\"\n",
    "print(capital)"
   ]
  },
  {
   "cell_type": "markdown",
   "metadata": {},
   "source": [
    "### 딕셔너리에서 데이터 삭제하기"
   ]
  },
  {
   "cell_type": "code",
   "execution_count": 1,
   "metadata": {},
   "outputs": [
    {
     "name": "stdout",
     "output_type": "stream",
     "text": [
      "{'영국': '런던', '프랑스': '파리', '오스트리아': '뷘', '스페인': '마드리드'}\n",
      "{'영국': '런던', '프랑스': '파리', '오스트리아': '뷘'}\n"
     ]
    }
   ],
   "source": [
    "capital = {\"영국\" : \"런던\", \"프랑스\" : \"파리\", \"오스트리아\" : \"뷘\", \"스페인\" : \"마드리드\"}\n",
    "print(capital)\n",
    "del capital[\"스페인\"]\n",
    "print(capital)\n"
   ]
  },
  {
   "cell_type": "markdown",
   "metadata": {},
   "source": [
    "### 딕셔너리 메서드 활용하기"
   ]
  },
  {
   "cell_type": "code",
   "execution_count": 65,
   "metadata": {},
   "outputs": [
    {
     "name": "stdout",
     "output_type": "stream",
     "text": [
      "dict_keys(['사과', '배', '딸기', '포도', '바나나'])\n"
     ]
    }
   ],
   "source": [
    "fruit = {\"사과\" : 101, \"배\" : 102, \"딸기\" :103, \"포도\" : 104, \"바나나\" : 105}\n",
    "print(fruit.keys())"
   ]
  },
  {
   "cell_type": "code",
   "execution_count": 66,
   "metadata": {},
   "outputs": [
    {
     "name": "stdout",
     "output_type": "stream",
     "text": [
      "dict_values([101, 102, 103, 104, 105])\n"
     ]
    }
   ],
   "source": [
    "print(fruit.values())"
   ]
  },
  {
   "cell_type": "code",
   "execution_count": 67,
   "metadata": {},
   "outputs": [
    {
     "name": "stdout",
     "output_type": "stream",
     "text": [
      "dict_items([('사과', 101), ('배', 102), ('딸기', 103), ('포도', 104), ('바나나', 105)])\n"
     ]
    }
   ],
   "source": [
    "print(fruit.items())"
   ]
  },
  {
   "cell_type": "code",
   "execution_count": 68,
   "metadata": {},
   "outputs": [
    {
     "name": "stdout",
     "output_type": "stream",
     "text": [
      "{'사과': 101, '배': 102, '딸기': 103, '포도': 104, '바나나': 105, '오렌지': 106, '수박': 107}\n"
     ]
    }
   ],
   "source": [
    "fruit2 = {\"오렌지\" : 106, \"수박\" : 107}\n",
    "fruit.update(fruit2)\n",
    "print(fruit)"
   ]
  },
  {
   "cell_type": "code",
   "execution_count": 70,
   "metadata": {},
   "outputs": [
    {
     "name": "stdout",
     "output_type": "stream",
     "text": [
      "dict_keys(['사과', '배', '딸기', '포도', '바나나', '오렌지', '수박'])\n"
     ]
    },
    {
     "data": {
      "text/plain": [
       "dict_keys"
      ]
     },
     "execution_count": 70,
     "metadata": {},
     "output_type": "execute_result"
    }
   ],
   "source": [
    "list(fruit.keys())\n",
    "print(fruit.keys())\n",
    "type(fruit.keys())"
   ]
  },
  {
   "cell_type": "code",
   "execution_count": null,
   "metadata": {},
   "outputs": [],
   "source": []
  }
 ],
 "metadata": {
  "kernelspec": {
   "display_name": "Python 3",
   "language": "python",
   "name": "python3"
  },
  "language_info": {
   "codemirror_mode": {
    "name": "ipython",
    "version": 3
   },
   "file_extension": ".py",
   "mimetype": "text/x-python",
   "name": "python",
   "nbconvert_exporter": "python",
   "pygments_lexer": "ipython3",
   "version": "3.8.3"
  }
 },
 "nbformat": 4,
 "nbformat_minor": 4
}
