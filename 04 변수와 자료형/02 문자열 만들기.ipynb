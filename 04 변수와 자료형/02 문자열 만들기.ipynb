{
 "cells": [
  {
   "cell_type": "markdown",
   "metadata": {},
   "source": [
    "### 문자열 만들기"
   ]
  },
  {
   "cell_type": "code",
   "execution_count": 2,
   "metadata": {},
   "outputs": [
    {
     "name": "stdout",
     "output_type": "stream",
     "text": [
      "이용주\n",
      "YongJu LEE\n"
     ]
    }
   ],
   "source": [
    "print(\"이용주\")\n",
    "print('YongJu LEE')"
   ]
  },
  {
   "cell_type": "code",
   "execution_count": 4,
   "metadata": {},
   "outputs": [
    {
     "name": "stdout",
     "output_type": "stream",
     "text": [
      "String test 1\n",
      "String test 2\n"
     ]
    }
   ],
   "source": [
    "string1 = \"String test 1\"\n",
    "string2 = \"String test 2\"\n",
    "print(string1)\n",
    "print(string2)"
   ]
  },
  {
   "cell_type": "code",
   "execution_count": 11,
   "metadata": {},
   "outputs": [
    {
     "data": {
      "text/plain": [
       "str"
      ]
     },
     "execution_count": 11,
     "metadata": {},
     "output_type": "execute_result"
    }
   ],
   "source": [
    "type(string1)"
   ]
  },
  {
   "cell_type": "code",
   "execution_count": 12,
   "metadata": {},
   "outputs": [
    {
     "data": {
      "text/plain": [
       "str"
      ]
     },
     "execution_count": 12,
     "metadata": {},
     "output_type": "execute_result"
    }
   ],
   "source": [
    "type(string2)"
   ]
  },
  {
   "cell_type": "code",
   "execution_count": 14,
   "metadata": {},
   "outputs": [
    {
     "name": "stdout",
     "output_type": "stream",
     "text": [
      "용주는 '지금 너무 배가 고파'라고 생각하고 있다.\n",
      "그래서 용주는 \"배고파\"라고 외쳤다.\n"
     ]
    }
   ],
   "source": [
    "string1 = \"용주는 '지금 너무 배가 고파'라고 생각하고 있다.\"\n",
    "string2 = '그래서 용주는 \"배고파\"라고 외쳤다.'\n",
    "print(string1)\n",
    "print(string2)"
   ]
  },
  {
   "cell_type": "code",
   "execution_count": 16,
   "metadata": {},
   "outputs": [
    {
     "name": "stdout",
     "output_type": "stream",
     "text": [
      "[삼중 작은따옴표를 사용한 예]\n",
      "파이썬에서는 삼중 따옴표로 여러 행의 문자열을 입력할 수 있습니다.\n",
      "큰따옴표(\")와 작은따옴표(')도 입력할 수 있습니다.\n",
      "[삼중 큰따옴표를 사용한 예]\n",
      "파이썬에서는 삼중 따옴표로 여러 행의 문자열을 입력할 수 있습니다.\n",
      "큰따옴표(\")와 작은따옴표(')도 입력할 수 있습니다.\n"
     ]
    }
   ],
   "source": [
    "long_string1 = '''[삼중 작은따옴표를 사용한 예]\n",
    "파이썬에서는 삼중 따옴표로 여러 행의 문자열을 입력할 수 있습니다.\n",
    "큰따옴표(\")와 작은따옴표(')도 입력할 수 있습니다.'''\n",
    "\n",
    "long_string2 = \"\"\"[삼중 큰따옴표를 사용한 예]\n",
    "파이썬에서는 삼중 따옴표로 여러 행의 문자열을 입력할 수 있습니다.\n",
    "큰따옴표(\")와 작은따옴표(')도 입력할 수 있습니다.\"\"\"\n",
    "\n",
    "print(long_string1)\n",
    "print(long_string2)"
   ]
  },
  {
   "cell_type": "markdown",
   "metadata": {},
   "source": [
    "### 문자열 다루기"
   ]
  },
  {
   "cell_type": "code",
   "execution_count": 21,
   "metadata": {},
   "outputs": [
    {
     "name": "stdout",
     "output_type": "stream",
     "text": [
      "이용주 집에 가 \n",
      "이용주 집에 가 이용주 집에 가 이용주 집에 가 \n"
     ]
    }
   ],
   "source": [
    "a= '이용주 '\n",
    "b= '집에 가 '\n",
    "\n",
    "print(a + b)\n",
    "print((a+b)*3)"
   ]
  },
  {
   "cell_type": "code",
   "execution_count": null,
   "metadata": {},
   "outputs": [],
   "source": []
  }
 ],
 "metadata": {
  "kernelspec": {
   "display_name": "Python 3",
   "language": "python",
   "name": "python3"
  },
  "language_info": {
   "codemirror_mode": {
    "name": "ipython",
    "version": 3
   },
   "file_extension": ".py",
   "mimetype": "text/x-python",
   "name": "python",
   "nbconvert_exporter": "python",
   "pygments_lexer": "ipython3",
   "version": "3.8.3"
  }
 },
 "nbformat": 4,
 "nbformat_minor": 4
}
