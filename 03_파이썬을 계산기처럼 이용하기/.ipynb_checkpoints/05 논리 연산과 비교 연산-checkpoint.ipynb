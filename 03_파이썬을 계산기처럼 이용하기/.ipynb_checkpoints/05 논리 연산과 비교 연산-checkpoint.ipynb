{
 "cells": [
  {
   "cell_type": "code",
   "execution_count": 1,
   "metadata": {},
   "outputs": [
    {
     "name": "stdout",
     "output_type": "stream",
     "text": [
      "True\n"
     ]
    }
   ],
   "source": [
    "print(True)"
   ]
  },
  {
   "cell_type": "code",
   "execution_count": 2,
   "metadata": {},
   "outputs": [
    {
     "name": "stdout",
     "output_type": "stream",
     "text": [
      "False\n"
     ]
    }
   ],
   "source": [
    "print(False)"
   ]
  },
  {
   "cell_type": "code",
   "execution_count": 3,
   "metadata": {},
   "outputs": [
    {
     "ename": "SyntaxError",
     "evalue": "invalid syntax (<ipython-input-3-3baabbb9826b>, line 1)",
     "output_type": "error",
     "traceback": [
      "\u001b[1;36m  File \u001b[1;32m\"<ipython-input-3-3baabbb9826b>\"\u001b[1;36m, line \u001b[1;32m1\u001b[0m\n\u001b[1;33m    int height;\u001b[0m\n\u001b[1;37m        ^\u001b[0m\n\u001b[1;31mSyntaxError\u001b[0m\u001b[1;31m:\u001b[0m invalid syntax\n"
     ]
    }
   ],
   "source": [
    "int height;"
   ]
  },
  {
   "cell_type": "code",
   "execution_count": 12,
   "metadata": {},
   "outputs": [
    {
     "name": "stdout",
     "output_type": "stream",
     "text": [
      "키를 입력하세요121\n",
      "탑승 가능\n"
     ]
    }
   ],
   "source": [
    "height = int (input(\"키를 입력하세요\"))\n",
    "if height >= 100:\n",
    "    print(\"탑승 가능\")\n",
    "\n",
    "else:\n",
    "    print(\"탑승 불가\")"
   ]
  },
  {
   "cell_type": "code",
   "execution_count": 13,
   "metadata": {},
   "outputs": [
    {
     "name": "stdout",
     "output_type": "stream",
     "text": [
      "키를 입력하세요121\n",
      "아이의 키는 121cm입니다.\n",
      "탑승 가능\n"
     ]
    }
   ],
   "source": [
    "height = int (input(\"키를 입력하세요\"))\n",
    "if height >= 100:\n",
    "    print(\"아이의 키는 \" + str(height) + \"cm입니다.\")\n",
    "    print(\"탑승 가능\")\n",
    "\n",
    "else:\n",
    "    print(\"아이의 키는 \" + str(height) + \"cm입니다.\")\n",
    "    print(\"탑승 불가\")"
   ]
  },
  {
   "cell_type": "code",
   "execution_count": 14,
   "metadata": {},
   "outputs": [
    {
     "name": "stdout",
     "output_type": "stream",
     "text": [
      "키를 입력하세요121\n",
      "121cm입니다.\n",
      "탑승 가능\n"
     ]
    }
   ],
   "source": [
    "height = int (input(\"키를 입력하세요\"))\n",
    "if height >= 100:\n",
    "    print(str(height) + \"cm입니다.\")\n",
    "    print(\"탑승 가능\")\n",
    "\n",
    "else:\n",
    "    print(str(height) + \"cm입니다.\")\n",
    "    print(\"탑승 불가\")"
   ]
  },
  {
   "cell_type": "code",
   "execution_count": 43,
   "metadata": {},
   "outputs": [
    {
     "name": "stdout",
     "output_type": "stream",
     "text": [
      "키를 입력하세요(숫자로)121\n",
      "나이를 입력하세요6\n",
      "탑승 가능\n"
     ]
    }
   ],
   "source": [
    "height = int (input(\"키를 입력하세요\"))\n",
    "age = int(input(\"나이를 입력하세요\"))\n",
    "if height >= 100 and age >=5:\n",
    "\n",
    "\n",
    "        print(\"탑승 가능\")\n",
    "    \n",
    "else:\n",
    "        print(\"탑승 불가\")\n"
   ]
  },
  {
   "cell_type": "code",
   "execution_count": 21,
   "metadata": {},
   "outputs": [
    {
     "name": "stdout",
     "output_type": "stream",
     "text": [
      "True\n",
      "False\n"
     ]
    }
   ],
   "source": [
    "print(True)\n",
    "print(False)"
   ]
  },
  {
   "cell_type": "code",
   "execution_count": 38,
   "metadata": {},
   "outputs": [
    {
     "data": {
      "text/plain": [
       "bool"
      ]
     },
     "execution_count": 38,
     "metadata": {},
     "output_type": "execute_result"
    }
   ],
   "source": [
    "type(True)"
   ]
  },
  {
   "cell_type": "code",
   "execution_count": 44,
   "metadata": {},
   "outputs": [
    {
     "name": "stdout",
     "output_type": "stream",
     "text": [
      "False\n",
      "True\n",
      "True\n"
     ]
    }
   ],
   "source": [
    "print(True and False)\n",
    "print(True or False)\n",
    "print(not False)"
   ]
  },
  {
   "cell_type": "code",
   "execution_count": 45,
   "metadata": {},
   "outputs": [
    {
     "name": "stdout",
     "output_type": "stream",
     "text": [
      "용주야\n"
     ]
    }
   ],
   "source": [
    "name = \"이용주\"\n",
    "\n",
    "if name !=\"이용주\":\n",
    "    print(\"이용주가 아닙니다.\")\n",
    "else:\n",
    "    print(\"용주야\")"
   ]
  },
  {
   "cell_type": "code",
   "execution_count": 46,
   "metadata": {},
   "outputs": [
    {
     "name": "stdout",
     "output_type": "stream",
     "text": [
      "False\n"
     ]
    }
   ],
   "source": [
    "print((3<0) and ((-5 > 0) and (1 > 5)))"
   ]
  },
  {
   "cell_type": "code",
   "execution_count": 51,
   "metadata": {},
   "outputs": [
    {
     "name": "stdout",
     "output_type": "stream",
     "text": [
      "학생입니까?(Y/N) : n\n",
      "8,000원 입니다.\n"
     ]
    }
   ],
   "source": [
    "age = str(input(\"학생입니까?(Y/N) : \"))\n",
    "\n",
    "\n",
    "if age == 'Y' or 'y' :\n",
    "    print(\"8,000원 입니다.\")\n",
    "    \n",
    "else :\n",
    "    print('12,000원 입니다.')\n"
   ]
  },
  {
   "cell_type": "code",
   "execution_count": 120,
   "metadata": {},
   "outputs": [
    {
     "name": "stdout",
     "output_type": "stream",
     "text": [
      "오늘 요일: 월요일\n"
     ]
    }
   ],
   "source": [
    "import time\n",
    "now = time.localtime()\n",
    "\n",
    "\n",
    "week = ( '월', '화', '수', '목', '금', '토', '일' );\n",
    "\n",
    "\n",
    "print ('오늘 요일: %s요일' % ( week[now.tm_wday] ))\n",
    "\n",
    "if week[now.tm_wday] == '토' or week[now.tm_wday] == '일':\n",
    "    print(\"왈\")"
   ]
  },
  {
   "cell_type": "code",
   "execution_count": 151,
   "metadata": {},
   "outputs": [
    {
     "name": "stdout",
     "output_type": "stream",
     "text": [
      "학생입니까? (Y/N) : n\n",
      "10000원 입니다.\n"
     ]
    }
   ],
   "source": [
    "## 시간을 계산해서 할증 처리\n",
    "import time\n",
    "now = time.localtime()\n",
    "\n",
    "week = ( '월', '화', '수', '목', '금', '토', '일' );\n",
    "\n",
    "age = input(\"학생입니까? (Y/N) : \")\n",
    "adult = 10000\n",
    "student = 8000\n",
    "\n",
    "if age==\"y\" or age ==\"Y\":\n",
    "    if week[now.tm_wday] == '토' or week[now.tm_wday] == '일':\n",
    "        print(\"주말 할증 되어 \" + str(\"%g\" % (student*1.2)) + \"원 입니다.\")\n",
    "    else:\n",
    "        print(str(student) + \"원 입니다.\")\n",
    "else :\n",
    "    if week[now.tm_wday] == '토' or week[now.tm_wday] == '일':\n",
    "        print(\"주말 할증 되어 \" + str(\"%g\" % (adult*1.2)) + \"원 입니다.\")\n",
    "    else:\n",
    "        print(str(adult) + \"원 입니다.\")"
   ]
  },
  {
   "cell_type": "code",
   "execution_count": 86,
   "metadata": {},
   "outputs": [
    {
     "name": "stdout",
     "output_type": "stream",
     "text": [
      "학생입니까?:(y/n로 대답)n\n",
      "8000원\n"
     ]
    }
   ],
   "source": [
    "identity= input(\"학생입니까?:(y/n로 대답)\")\n",
    "if identity==\"y\":\n",
    "    print(\"6000원\")\n",
    "else:\n",
    "    print(\"8000원\")"
   ]
  }
 ],
 "metadata": {
  "kernelspec": {
   "display_name": "Python 3",
   "language": "python",
   "name": "python3"
  },
  "language_info": {
   "codemirror_mode": {
    "name": "ipython",
    "version": 3
   },
   "file_extension": ".py",
   "mimetype": "text/x-python",
   "name": "python",
   "nbconvert_exporter": "python",
   "pygments_lexer": "ipython3",
   "version": "3.8.3"
  }
 },
 "nbformat": 4,
 "nbformat_minor": 4
}
