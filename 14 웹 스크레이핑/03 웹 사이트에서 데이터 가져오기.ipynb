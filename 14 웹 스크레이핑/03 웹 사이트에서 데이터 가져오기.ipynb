{
 "cells": [
  {
   "cell_type": "code",
   "execution_count": 1,
   "metadata": {},
   "outputs": [],
   "source": [
    "import requests\n",
    "from bs4 import BeautifulSoup\n",
    "\n",
    "url = 'https://www.alexa.com/topsites/countries/KR'\n",
    "\n",
    "html_website_ranking = requests.get(url).text\n",
    "soup_website_ranking = BeautifulSoup(html_website_ranking, 'lxml')\n",
    "\n",
    "# p 태그의 요소 안에서 a 태그의 요소를 찾음\n",
    "website_ranking = soup_website_ranking.select('p a')"
   ]
  },
  {
   "cell_type": "code",
   "execution_count": 12,
   "metadata": {},
   "outputs": [
    {
     "data": {
      "text/plain": [
       "'Google.com'"
      ]
     },
     "execution_count": 12,
     "metadata": {},
     "output_type": "execute_result"
    }
   ],
   "source": [
    "website_ranking[1].get_text()"
   ]
  },
  {
   "cell_type": "code",
   "execution_count": 13,
   "metadata": {},
   "outputs": [],
   "source": [
    "website_ranking_adress = [website_ranking_element.get_text() for website_ranking_element in \n",
    "                         website_ranking]"
   ]
  },
  {
   "cell_type": "code",
   "execution_count": 14,
   "metadata": {},
   "outputs": [
    {
     "data": {
      "text/plain": [
       "['Google.com',\n",
       " 'Naver.com',\n",
       " 'Youtube.com',\n",
       " 'Daum.net',\n",
       " 'Tistory.com',\n",
       " 'Tmall.com']"
      ]
     },
     "execution_count": 14,
     "metadata": {},
     "output_type": "execute_result"
    }
   ],
   "source": [
    "website_ranking_adress[1:7]"
   ]
  },
  {
   "cell_type": "code",
   "execution_count": 60,
   "metadata": {},
   "outputs": [
    {
     "name": "stdout",
     "output_type": "stream",
     "text": [
      "탑뮤직\n",
      "1: Dynamite\n",
      "2: Lovesick Girls\n",
      "3: DON'T TOUCH ME\n",
      "4: 잠이 오질 않네요\n",
      "5: 취기를 빌려 (취향저격 그녀 X 산들)\n",
      "6: 힘든 건 사랑이 아니다\n",
      "7: I CAN'T STOP ME\n",
      "8: Savage Love (Laxed - Siren Beat) (BTS Remix)\n",
      "9: 딩가딩가 (Dingga)\n",
      "10: 마리아 (Maria)\n"
     ]
    }
   ],
   "source": [
    "import requests\n",
    "from bs4 import BeautifulSoup\n",
    "\n",
    "url = 'https://music.naver.com/listen/top100.nhn?domain=TOTAL_V2'\n",
    "\n",
    "html = requests.get(url).text\n",
    "soup = BeautifulSoup(html, 'lxml')\n",
    "rank = soup.select('a._title')\n",
    "adress = [ranking.get_text() for ranking in rank]\n",
    "\n",
    "print(\"탑뮤직\")\n",
    "for k in range(10):\n",
    "    print(f'{k+1}: {adress[k]}')"
   ]
  },
  {
   "cell_type": "code",
   "execution_count": 193,
   "metadata": {},
   "outputs": [
    {
     "data": {
      "text/plain": [
       "['\\n\\n[단독 선공개] 유진, 손에 묻은 피 그리고 사라진 기억!?\\n\\n',\n",
       " '\\n\\n잠시만 안녕. 김호중 군복무전 마지막 무대 ＜배웅＞ㅣ김호중의파트너 EP.5\\n\\n',\n",
       " '\\n\\nSK감독, 선동열 포함 3인 압축 / 김경문 재계약? / 양현종 美가능성 / 최형우 비매너였나\\n\\n',\n",
       " '\\n탈락석으로 ‘가지마’♪ 포천의 아들 임영웅 아자!\\n',\n",
       " '\\n임영웅 ‘옛사랑’ ♪ 감성 장인 히어로 💧\\n',\n",
       " \"\\n[전체HL] '신민재 끝내기' LG, 연장 혈투 끝에 키움 꺾고 준PO 진출\\n\",\n",
       " '\\n‘금손아내’ 은보아, 거침없이 수리해 나가는 만능가이버!\\n',\n",
       " '\\n[4회 예고] “죽여버릴거야” 이지아, 복수의 서막 시작!\\n',\n",
       " '\\n[선공개] 조리원 열차에 탑승한 꼬리칸 엄마 엄지원X일등칸 엄마 박하선\\n',\n",
       " '\\n“후식은 중국집” 김호중×현주엽, 끝나지 않는 먹레이스!\\n',\n",
       " '\\n나왔다! 찬원이의 필살기↗ ‘미운 사내’ ♬\\n',\n",
       " '\\n“어딨니 아가야” 이지아, 친 딸 찾기 본격 시작!\\n',\n",
       " '\\n이대 목동병원 박지선 빈소…박정민, 박보영 등 동료들 조문 이어져\\n',\n",
       " '\\n《스페셜》 훌렁훌렁 벗지 않습니다..^^;;나혼산 100벌 챌린지 백스테이지 비하인드!\\n',\n",
       " '\\n[선공개] 첫 차를 산 남자 공감 200% ＂조심히 타라고 했다..＂\\n',\n",
       " '\\n[2020 고교야구] 이제는 2022 드래프트! 주목할 유망주들은?\\n',\n",
       " '\\n함께 떠나자 뽕페스티벌🎉 속으로!!!_뽕숭아학당 26회 예고\\n',\n",
       " '\\n“딸이 두 분 관계 알면 어떨 것 같아요?” 조수민, 김소연에 살벌한 협박!\\n',\n",
       " '\\n“내 딸 살아있어요?” 이지아, 의문의 남자로부터 걸려온 전화에 충격 오열!\\n',\n",
       " '\\n“집단 린치에요! 집단!” 엄기준, 아이들이 저지른 사단에 긴급회의!\\n',\n",
       " \"\\n[7AM] '포스트시즌 첫 경기부터 끝내기!' WC 1차전 하이라이트\\n\",\n",
       " '\\n“열심히 살았던 것뿐인데” 조수민, 혹독한 현실에 ‘눈물’\\n',\n",
       " '\\n“요리 못하겠어요” 김호중, 끊임없이 감시하는 먹보스 현주엽에 고통!\\n',\n",
       " '\\n[충격 엔딩] “설마..내가?” 유진, 조수민과 뒤바뀐 김현수 합격에 끔찍한 의심!\\n',\n",
       " '\\n“내 감정을 속일 수 없어요” 이지아, 엄기준에게 파혼 통보!\\n',\n",
       " '\\n‘딸바보♥아들바보’ 오지호, 사랑스러운 ‘오남매’ 등장에 찐 웃음 만개!\\n',\n",
       " '\\n키움-LG 풀영상\\n',\n",
       " '\\n[충격] “내 딸이 아니라고?” 이지아, 나소예 친딸 아닌 사실 알고 경악!\\n',\n",
       " '\\n영탁 ‘붓’♫ 콜센타의 자존심을 보여줘😎\\n',\n",
       " '\\n[임진한의 전국투어] 임진한의 어프로치 거리 조절 연습법\\n',\n",
       " \"\\n[영상] 새 아파트 통째 '폭파'…中 불법 건물과의 전쟁\\n\",\n",
       " '\\n역대 와일드카드전 명장면 모음\\n',\n",
       " '\\n‘삐에로는 우릴 보고 웃지’ ♪ 동원이 귀여움 대방출😊\\n',\n",
       " '\\n[짠내폭발] 오지호, 7년 동안 혼자 차려 먹는 셀프 밥상!\\n',\n",
       " '\\n와일드카드 1차전 시구 LG트윈스 찐팬! 홍경민 응원메시지\\n',\n",
       " '\\nDWG vs SN 1세트\\n',\n",
       " '\\n[깜찍주의] 오지호♥은보아 아들 주왕이, 보아매점 털이 현장검거!\\n',\n",
       " '\\n전진♥류이서, 럭셔리 캠핑카 쇼핑 중 갑분 핑크빛 신혼♥\\n',\n",
       " '\\n‘여자 이름?’ 오지호, 과거 봉인 판도라의 상자 오픈에 떨리는 심장!\\n',\n",
       " '\\n[꼰대인턴 OST Part 2] 이찬원 (Lee Chan Won) - 시절인연 (時節因緣) (Fate in Time) MV\\n',\n",
       " '\\n[박진이 레슨] 비거리 향상 - 클럽헤드 던지는 방법\\n',\n",
       " \"\\n검찰, '햄버거병' 한국 맥도날드 본사 압수수색...재수사 본격화\\n\",\n",
       " '\\nDWG vs SN 3세트\\n',\n",
       " \"\\n'대주자' 신민재, 드라마 같은 연장 끝내기 안타 / 13회말\\n\",\n",
       " '\\n“너 실수했잖아” 김현수, 오디션 실수에도 합격한 최예빈에 분노!\\n',\n",
       " '\\n장민호X영탁 ‘대박 날 테다’♬ 호흡대박👍\\n',\n",
       " '\\n[단독 선공개] 유진, 김소연 앞에 무릎 꿇는 모성애! (ft. 김소연 잔혹美★)\\n',\n",
       " \"\\n'대타 적중' 이천웅, 믿음에 보답하는 동점 적시타 / 13회말\\n\",\n",
       " '\\n90여 명 목숨 앗아간 터키 지진의 위력...모든 것이 흔들렸다!\\n',\n",
       " '\\n유진, 무자비한 ‘유전무죄 무전유죄’ 현실에 망연자실! (ft. 봉태규 얄밉)\\n',\n",
       " '\\n퀄리파잉 오퍼 못 받은 다나카...이유는? | 김형준\\n',\n",
       " '\\nDWG vs SN 4세트\\n',\n",
       " '\\n‘에스프레소 콘파냐’ 김호중, 먹보스 감동시킨 아이스크림 믹스커피\\n',\n",
       " '\\n신민재HL - 5시간 혈투를 끝낸 극적인 끝내기의 주인공\\n',\n",
       " '\\n[14회 예고] 나 속이니까 재밌었어...?\\n',\n",
       " '\\n[WC프리뷰] 다시붙은 키움과 LG, 가을의 복수가 시작된다\\n',\n",
       " '\\n손흥민! 영국 봉쇄인데 오스트리아 A매치 가능? 2주 격리는?\\n',\n",
       " '\\n웰뱅 피닉스(차유람) vs 신한 알파스(김가영) 2세트[신한금융투자 PBA TEAM LEAGUE 4R]\\n',\n",
       " '\\n1화#하이라이트#쉬운게 1도 없는 초보엄빠 엄지원X윤박의 산후조리원 입성기\\n',\n",
       " '\\n오지호, 불 맛 트레이닝으로 다져진 45세 조각 몸매★\\n',\n",
       " '\\n“합격자는 원래 정해져있어” 진지희, 폭발 직전 김현수에 위험한 도발!\\n',\n",
       " '\\n[단독 선공개] 박 반장의 노동요 마법♬에 걸린 갬성 식구들 (ft. 세팅 지옥🔥)\\n',\n",
       " \"\\n박지선 비보에 연예계 '침통'…안영미 생방송 중단에 SNS 추모 이어져\\n\",\n",
       " '\\n[11월1주 KBL 루머&팩트 1부] 이정현 트레이드 루머 실체. 오히려 이 트레이드가 더 확률높다\\n',\n",
       " '\\n‘조각미남과 사는 기분?’ 은보아, 다비드st 오지호와 결혼 소감!\\n',\n",
       " '\\n박정민 박지선 빈소 가장 먼저 도착 박성광 송은이 등 동료들도 조문\\n',\n",
       " '\\nMVㅣ나훈아  - 테스형!ㅣ2020 신곡 아홉 이야기\\n',\n",
       " '\\n소원의 매혹적인 유혹💋, 하지만...!_아내의 맛 122회 예고\\n',\n",
       " '\\n[10분 요약]엄지원의 세상 현실적인 굴욕+고통+눈물의 출산기ZIP_세상 모든 엄마 공감\\n',\n",
       " \"\\n아빠의 감동적인 '통장 편지' 발견하고 오열하는 노정의\\n\",\n",
       " '\\n이찬원 ‘카페에서’♪ 뽕 감성 촉촉☕️\\n',\n",
       " '\\n[영상] “내 엄지를 잡는 순간 우리는 울었다”…3살 어린이 65시간 만의 ‘기적’\\n',\n",
       " '\\n외국인 선수 전망 ② NC-두산-롯데-SK (SK 감독+한화 사장 상황)\\n',\n",
       " '\\n[고백 엔딩] 김하늘에게 사실을 고백한 이도현 ＂나 홍대영이야＂\\n',\n",
       " '\\n엄지원X박하선, 격정적인 첫 만남♨ ＂내가 싼 거 아니야＂\\n',\n",
       " '\\n전세계가 주목한 와일드카드 명장면 TOP7\\n',\n",
       " '\\n안영미 라디오 생방송 중 진행 중단 박지선 사망 비보에 눈물\\n',\n",
       " '\\n전진♥류이서, 캠핑카로 떠나는 ‘길바닥 신혼여행’\\n',\n",
       " \"\\n'담보' 4분 하이라이트 영상\\n\",\n",
       " '\\n[에필로그] ＂그게 우영이한테 설레는 건지, 대영이랑 비슷해서 설레는 건지…＂\\n',\n",
       " \"\\n윤석열, 신임 부장검사 소집 교육...'커밍아웃' 댓글은 300건 돌파\\n\",\n",
       " '\\n23개월 도하영의 취향을 저격한 연잎밥\\n',\n",
       " '\\n김희재 ‘짝사랑’ ♫ 간들어지는 첫 소절😍\\n',\n",
       " '\\n박성광♥이솔이, 모발 검사 충격 결과에 ‘위기의 탈모 부부?’\\n',\n",
       " \"\\n'도합 10시간 30분 경기' 11월 2일에는 뭔가 있다?!\\n\",\n",
       " '\\n※삶과 죽음의 경계※ 무통천국은 짧고 고통은 길다... 엄지원의 험난한 출산기\\n',\n",
       " '\\nDWG vs SN 2세트\\n',\n",
       " \"\\n'소리도 없이' 무삭제 영상\\n\",\n",
       " \"\\n[주간EPL] 지쳐버린 '손.케.호' 핵심 3인방, 토트넘의 고비가 다가온다?\\n\",\n",
       " '\\n[11월 9일 예고] 은보아 울린 F4의 위험한 방문!(ft. 죄인 오지호)\\n',\n",
       " '\\n＂제가 터졌어요, 양수＂ 계약 성사시키자마자 양수 터진 엄지원의 프로美\\n',\n",
       " '\\n[골프백과사전] 올바른 에이밍 방법\\n',\n",
       " '\\n영웅이의 眞짜 감성😥 ‘아내에게 바치는 노래’ ♩\\n',\n",
       " \"\\n故박지선, 슬픔의 빈소 현장, 장례식장엔 눈물 바다 '부검 않기로'\\n\",\n",
       " \"\\n[영상] 태국 반정부 시위에 등장한 '다만세'…이들이 한국어 노래를 부르는 이유\\n\",\n",
       " '\\n안영미 라디오 진행 불가…’두데’ 뮤지 단독 진행으로\\n',\n",
       " '\\n엄지원에게 출산1기란...관장+제모=인생 최대 굴욕기(?)\\n',\n",
       " '\\n＂아빠 나 보러 올 거지…＂ 윤상현-노정의 눈물의 통화 \\n',\n",
       " '\\n＜선공개＞ 걸그룹 출신 멤버들의 영혼을 탈탈 털어버린 배윤정의 독설\\n',\n",
       " '\\n김호중(Kim Ho Joong) X 박가빈(Park Ga Bin) - 파트너♪(원곡 남진)ㅣ김호중의파트너 EP.5\\n']"
      ]
     },
     "execution_count": 193,
     "metadata": {},
     "output_type": "execute_result"
    }
   ],
   "source": [
    "import requests\n",
    "from bs4 import BeautifulSoup\n",
    "\n",
    "url = 'https://tv.naver.com/r/'\n",
    "\n",
    "html = requests.get(url).text\n",
    "soup = BeautifulSoup(html,'lxml')\n",
    "titles = soup.select('dt.title')\n",
    "rank = [title.get_text() for title in titles]\n",
    "rank"
   ]
  },
  {
   "cell_type": "code",
   "execution_count": 178,
   "metadata": {},
   "outputs": [
    {
     "name": "stdout",
     "output_type": "stream",
     "text": [
      "연도를 입력하세요2012\n",
      "월을 입력하세요10\n",
      "주를 입력하세요1\n",
      "바람기억\n",
      "Missing You (Feat. 김윤아 of 자우림)\n",
      "아마추어\n",
      "아시나요 (원곡가수 조성모)\n",
      "립스틱 (LIPSTICK)\n",
      "크레용 (Crayon)\n",
      "All For You\n"
     ]
    }
   ],
   "source": [
    "import requests\n",
    "from bs4 import BeautifulSoup\n",
    "\n",
    "year = input('연도를 입력하세요')\n",
    "month = input('월을 입력하세요')\n",
    "week = input('주를 입력하세요')\n",
    "\n",
    "if len(month) == 1: month = '0'+month\n",
    "\n",
    "url = f\"http://music.naver.com/listen/history/index.nhn?type=TOTAL&year={year}&month={month}&week={week}\"\n",
    "html_music = requests.get(url).text\n",
    "soup_music = BeautifulSoup(html_music, \"lxml\")\n",
    "\n",
    "# a 태그의 요소 중에서 class 속성값이 \"_title\" 인 것을 찾고\n",
    "# 그 안에서 span 태그의 요소 중에서 class 속성값이 \"ellipsis\"인 요소를 추출\n",
    "titles = soup_music.select('a._title span.ellipsis') \n",
    "\n",
    "for title in titles[0:7]:\n",
    "    print(title.get_text())"
   ]
  },
  {
   "cell_type": "code",
   "execution_count": null,
   "metadata": {},
   "outputs": [],
   "source": []
  }
 ],
 "metadata": {
  "kernelspec": {
   "display_name": "Python 3",
   "language": "python",
   "name": "python3"
  },
  "language_info": {
   "codemirror_mode": {
    "name": "ipython",
    "version": 3
   },
   "file_extension": ".py",
   "mimetype": "text/x-python",
   "name": "python",
   "nbconvert_exporter": "python",
   "pygments_lexer": "ipython3",
   "version": "3.8.3"
  }
 },
 "nbformat": 4,
 "nbformat_minor": 4
}
