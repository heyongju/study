{
 "cells": [
  {
   "cell_type": "code",
   "execution_count": 6,
   "metadata": {},
   "outputs": [],
   "source": [
    "import requests\n",
    "from bs4 import BeautifulSoup as bs\n",
    "import os"
   ]
  },
  {
   "cell_type": "code",
   "execution_count": 3,
   "metadata": {},
   "outputs": [
    {
     "name": "stdout",
     "output_type": "stream",
     "text": [
      "Collecting selenium\n",
      "  Downloading selenium-3.141.0-py2.py3-none-any.whl (904 kB)\n",
      "Requirement already satisfied: urllib3 in c:\\users\\zzdyd\\anaconda3\\lib\\site-packages (from selenium) (1.25.9)\n",
      "Installing collected packages: selenium\n",
      "Successfully installed selenium-3.141.0\n"
     ]
    }
   ],
   "source": [
    "!pip install selenium"
   ]
  },
  {
   "cell_type": "code",
   "execution_count": 61,
   "metadata": {},
   "outputs": [
    {
     "name": "stdout",
     "output_type": "stream",
     "text": [
      "\n",
      "시즌기록실시즌기록실통산기록실팀기록실특별기록실연도별 상수WAR Special종합타격투구수비주요메뉴  종합기록  타격기록  투구기록  수비기록  종합기록 타격기록 투구기록 수비기록 \n",
      "시즌기록실시즌기록실통산기록실팀기록실특별기록실연도별 상수WAR Special종합타격투구수비\n",
      " 종합기록 타격기록 투구기록 수비기록\n",
      "2020\r",
      "\t\t\t 연도 828384858687888990919293949596979899000102030405060708091011121314151617181920전체\r",
      "\t\t\t 시작 828384858687888990919293949596979899000102030405060708091011121314151617181920전체\r",
      "\t\t\t 끝 828384858687888990919293949596979899000102030405060708091011121314151617181920전체\r",
      "\t\t\t팀:전체\t\t\t 현재 팀전체두산삼성NC키움SK한화LG롯데KIAkt올드 팀해태현대청보삼미MBCOB태평양빙그레쌍방울히어로즈통합 팀두산+OB삼성NC히어로즈SK한화+빙그레LG+MBC롯데KIA+해태kt현태청삼쌍방울\r",
      "\t\t\t정규\t\t\t 정규포스트한국S플옵준플와카올스타섬머\r",
      "\t\t\t규정\t\t\t 규정70%50%30%전체200>150>100>50>25>10>5>\r",
      "\t\t\t 상황\r",
      "\t\t\t 옵션상세옵션나이 :\r",
      "1718192021222324252627282930313233343536373839404142434445464748495051\r",
      "~\r",
      "1718192021222324252627282930313233343536373839404142434445464748495051검색투구 :\r",
      "전체우투좌투우언좌언우정좌정환산 :\r",
      "없음80G100G126G128G133G144G162G표기 :\r",
      "선수팀리그팀+선수리그+선수리그+팀리그+팀+선수출력 :\r",
      "10203050100투수 :\r",
      "검색(예:선동열,송진우)\r",
      " 출신고 :\r",
      "전체고졸강릉경기경기상경남경동경북경주공주광영광주동성광주일광주진흥구리인창구미전공군산상김해대건대광대구대구상원대전대전대성덕수동래마산마산용마명지목포상미국배명배문배재보성부경부산부산개성부산공부천북평분당중앙상문서울선린인설악성광성남성남서세광순천상순천효천숭의실신일신정심석종안산공야탑영흥오산용병원주유신유한공인천인천동산일본장충전남전주전주상제물포제주관광주엽중앙천안북일천호상철도청강청원청원고청주청주기공춘천충암포철공한서현대공호주화순휘문 출신대 :\r",
      "전체대졸용병건국경남경성경희계명고려단국대불동강동국동아동의사이버성균관송원연세영남원광인천전문인하제주관광제주산업제주전문중앙탐라한라한양한일장신홍익 전체   용병   중간라인 :\r",
      " 보기   제거  \r",
      "     정렬1 :\r",
      "연도완투완봉선발승패홀드실점자책안타2타3타홈런볼넷고4사구삼진WARK/9BB/9K/BBHR/9K%BB%K-BB%PFR타율출루율장타율OPSWHIP+IP/GP/GP/IPCYPFIPRAFIPRAF-ER-EERAFIPRAFIPRAERA+FIP+kwERA선발구원종합선발구원종합선발구원종합선발구원종합선발구원종합fWARRA9-WAR타격주루RE24REW타격주루PlusMinusWPApLIWPA/LIClutch타자투구P/PA루킹헛스윙파울타격SB전체초구헛스윙%SwStr%2S후커트%2S후선구%스윙루킹LSO%N스윙W%땅볼뜬공GO/FOInP%내야외야내야외야N%N%실책출루포스O출루안타아웃타율시도%좌중우당밀좌중우당밀좌중우당밀좌중우당밀BABIP등판이닝ERA승패QS%QS+%QKTLCW득점지원승패%BWBLLIRLIS%AGSIP/GSP/GS선발WAR선발WPA등판이닝ERA승패홀드세BLSVBLHBL+세%R-PntSVP홀드세블론IRISRel%enLIavLI구원WAR구원WPA도루도실도루%도루기회도루시도%234234234견제아웃무도보크포일폭투출장이닝ERAWHIP득점%LOB%병살타상황%희번실패%N%N%N%정렬2 :\r",
      "연도완투완봉선발승패홀드실점자책안타2타3타홈런볼넷고4사구삼진WARK/9BB/9K/BBHR/9K%BB%K-BB%PFR타율출루율장타율OPSWHIP+IP/GP/GP/IPCYPFIPRAFIPRAF-ER-EERAFIPRAFIPRAERA+FIP+kwERA선발구원종합선발구원종합선발구원종합선발구원종합선발구원종합fWARRA9-WAR타격주루RE24REW타격주루PlusMinusWPApLIWPA/LIClutch타자투구P/PA루킹헛스윙파울타격SB전체초구헛스윙%SwStr%2S후커트%2S후선구%스윙루킹LSO%N스윙W%땅볼뜬공GO/FOInP%내야외야내야외야N%N%실책출루포스O출루안타아웃타율시도%좌중우당밀좌중우당밀좌중우당밀좌중우당밀BABIP등판이닝ERA승패QS%QS+%QKTLCW득점지원승패%BWBLLIRLIS%AGSIP/GSP/GS선발WAR선발WPA등판이닝ERA승패홀드세BLSVBLHBL+세%R-PntSVP홀드세블론IRISRel%enLIavLI구원WAR구원WPA도루도실도루%도루기회도루시도%234234234견제아웃무도보크포일폭투출장이닝ERAWHIP득점%LOB%병살타상황%희번실패%N%N%N%조건1 :\r",
      " 연도완투완봉선발승패홀드실점자책안타2타3타홈런볼넷고4사구삼진WARK/9BB/9K/BBHR/9K%BB%K-BB%PFR타율출루율장타율OPSWHIP+IP/GP/GP/IPCYPFIPRAFIPRAF-ER-EERAFIPRAFIPRAERA+FIP+kwERA선발구원종합선발구원종합선발구원종합선발구원종합선발구원종합fWARRA9-WAR타격주루RE24REW타격주루PlusMinusWPApLIWPA/LIClutch타자투구P/PA루킹헛스윙파울타격SB전체초구헛스윙%SwStr%2S후커트%2S후선구%스윙루킹LSO%N스윙W%땅볼뜬공GO/FOInP%내야외야내야외야N%N%실책출루포스O출루안타아웃타율시도%좌중우당밀좌중우당밀좌중우당밀좌중우당밀BABIP등판이닝ERA승패QS%QS+%QKTLCW득점지원승패%BWBLLIRLIS%AGSIP/GSP/GS선발WAR선발WPA등판이닝ERA승패홀드세BLSVBLHBL+세%R-PntSVP홀드세블론IRISRel%enLIavLI구원WAR구원WPA도루도실도루%도루기회도루시도%234234234견제아웃무도보크포일폭투출장이닝ERAWHIP득점%LOB%병살타상황%희번실패%N%N%N% 이상이하조건2 :\r",
      " 연도완투완봉선발승패홀드실점자책안타2타3타홈런볼넷고4사구삼진WARK/9BB/9K/BBHR/9K%BB%K-BB%PFR타율출루율장타율OPSWHIP+IP/GP/GP/IPCYPFIPRAFIPRAF-ER-EERAFIPRAFIPRAERA+FIP+kwERA선발구원종합선발구원종합선발구원종합선발구원종합선발구원종합fWARRA9-WAR타격주루RE24REW타격주루PlusMinusWPApLIWPA/LIClutch타자투구P/PA루킹헛스윙파울타격SB전체초구헛스윙%SwStr%2S후커트%2S후선구%스윙루킹LSO%N스윙W%땅볼뜬공GO/FOInP%내야외야내야외야N%N%실책출루포스O출루안타아웃타율시도%좌중우당밀좌중우당밀좌중우당밀좌중우당밀BABIP등판이닝ERA승패QS%QS+%QKTLCW득점지원승패%BWBLLIRLIS%AGSIP/GSP/GS선발WAR선발WPA등판이닝ERA승패홀드세BLSVBLHBL+세%R-PntSVP홀드세블론IRISRel%enLIavLI구원WAR구원WPA도루도실도루%도루기회도루시도%234234234견제아웃무도보크포일폭투출장이닝ERAWHIP득점%LOB%병살타상황%희번실패%N%N%N% 이상이하검색상황별기록\r",
      " 기간\r",
      " 전체입력1주일30일전반기후반기3월4월5월6월7월8월9월10월11월\r",
      " ~\r",
      " \r",
      " 요일\r",
      " 전체화수목금토일월화~목금~토\r",
      "  시간\r",
      " 전체낮밤~2시~3시~4시~5시5시~6시~\r",
      " 홈/원정\r",
      " 전체홈원정\r",
      " vs전체SK두산한화삼성LG넥센키움롯데KIANCkt히어로즈\r",
      " 구장\r",
      " 전체천연인조열린돔광주군산대구대전마산고척목동문학사직수원잠실제주청주\r",
      " As\r",
      " 전체선발구원\r",
      " 타순\r",
      " 전체1번2번3번4번5번6번7번8번9번\r",
      " 타자 전체우타좌타양타우양좌양\n",
      "2020\r",
      "\t\t\t 연도 828384858687888990919293949596979899000102030405060708091011121314151617181920전체\r",
      "\t\t\t 시작 828384858687888990919293949596979899000102030405060708091011121314151617181920전체\r",
      "\t\t\t 끝 828384858687888990919293949596979899000102030405060708091011121314151617181920전체\r",
      "\t\t\t팀:전체\t\t\t 현재 팀전체두산삼성NC키움SK한화LG롯데KIAkt올드 팀해태현대청보삼미MBCOB태평양빙그레쌍방울히어로즈통합 팀두산+OB삼성NC히어로즈SK한화+빙그레LG+MBC롯데KIA+해태kt현태청삼쌍방울\r",
      "\t\t\t정규\t\t\t 정규포스트한국S플옵준플와카올스타섬머\r",
      "\t\t\t규정\t\t\t 규정70%50%30%전체200>150>100>50>25>10>5>\r",
      "\t\t\t 상황\r",
      "\t\t\t 옵션\n",
      " [자동 : 전체]\n",
      "\n",
      "기본확장방어율가치WP타석타구1타구2선발구원견제위기관리구종가치구종구사\r",
      "                  추가 기본확장방어율가치WP타석타구1타구2선발구원견제위기관리구종가치구종구사순이름팀정렬출장완투완봉선발승패세홀드이닝실점자책타자안타2타3타홈런볼넷고4사구삼진보크폭투비율WARWPAWARERAFIPWHIPERA+FIP+1알칸타라20두 8.32  31 \n",
      "\n",
      "\n"
     ]
    }
   ],
   "source": [
    "from selenium import webdriver\n",
    "\n",
    "\n",
    "url = 'http://www.statiz.co.kr/stat.php?re=1&lr=0'\n",
    "\n",
    "html = requests.get(url).text\n",
    "\n",
    "soup = bs(html, 'html.parser')\n",
    "\n",
    "bslist = soup.select('div div.col-xs-12')\n",
    "\n",
    "for i in bslist:\n",
    "    print(i.get_text().replace('\\n', ''))"
   ]
  },
  {
   "cell_type": "code",
   "execution_count": null,
   "metadata": {},
   "outputs": [],
   "source": [
    "\n",
    "url = 'http://www.statiz.co.kr/stat.php?re=1&lr=0'\n",
    "\n",
    "html = requests.get(url).text\n",
    "\n",
    "soup = bs(html, 'html.parser')\n",
    "\n",
    "bslist = soup.select('td font span')\n",
    "\n",
    "for i in bslist:\n",
    "    print(i.get_text(), end = \" \")"
   ]
  }
 ],
 "metadata": {
  "kernelspec": {
   "display_name": "Python 3",
   "language": "python",
   "name": "python3"
  },
  "language_info": {
   "codemirror_mode": {
    "name": "ipython",
    "version": 3
   },
   "file_extension": ".py",
   "mimetype": "text/x-python",
   "name": "python",
   "nbconvert_exporter": "python",
   "pygments_lexer": "ipython3",
   "version": "3.8.3"
  }
 },
 "nbformat": 4,
 "nbformat_minor": 4
}
