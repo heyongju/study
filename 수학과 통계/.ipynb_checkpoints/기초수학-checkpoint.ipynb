{
 "cells": [
  {
   "cell_type": "code",
   "execution_count": 1,
   "metadata": {},
   "outputs": [
    {
     "name": "stdout",
     "output_type": "stream",
     "text": [
      "Requirement already satisfied: numpy in c:\\users\\playdata\\anaconda3\\lib\\site-packages (1.18.5)\n",
      "Requirement already satisfied: sympy in c:\\users\\playdata\\anaconda3\\lib\\site-packages (1.6.1)\n",
      "Requirement already satisfied: mpmath>=0.19 in c:\\users\\playdata\\anaconda3\\lib\\site-packages (from sympy) (1.1.0)\n"
     ]
    }
   ],
   "source": [
    "!pip install numpy\n",
    "!pip install sympy"
   ]
  },
  {
   "cell_type": "code",
   "execution_count": 2,
   "metadata": {},
   "outputs": [],
   "source": [
    "from sympy import *\n",
    "init_printing()"
   ]
  },
  {
   "cell_type": "code",
   "execution_count": 3,
   "metadata": {},
   "outputs": [
    {
     "data": {
      "image/png": "[encoded data removed]",
      "text/latex": [
       "$\\displaystyle \\left[ 3\\right]$"
      ],
      "text/plain": [
       "[3]"
      ]
     },
     "execution_count": 3,
     "metadata": {},
     "output_type": "execute_result"
    }
   ],
   "source": [
    "from sympy import symbol, solve\n",
    "x = Symbol('x')\n",
    "\n",
    "equation = 2*x -6\n",
    "solve(equation)"
   ]
  },
  {
   "cell_type": "code",
   "execution_count": 9,
   "metadata": {},
   "outputs": [
    {
     "data": {
      "image/png": "[encoded data removed]",
      "text/latex": [
       "$\\displaystyle \\left[ \\left\\{ x : \\frac{1}{2}, \\  y : - \\frac{5}{4}\\right\\}\\right]$"
      ],
      "text/plain": [
       "[{x: 1/2, y: -5/4}]"
      ]
     },
     "execution_count": 9,
     "metadata": {},
     "output_type": "execute_result"
    }
   ],
   "source": [
    "from sympy import Symbol, solve\n",
    "\n",
    "x = Symbol('x')\n",
    "y = Symbol('y')\n",
    "\n",
    "# 방정식을 풀려면 \"(일차방정식) = 0\" 꼴로 바꾸기\n",
    "# 위의 방법으로 equation1과 euation2를 변수화하기\n",
    "equation1 = 3 * x + x - 2\n",
    "equation2 = x - 2 * y - 3\n",
    "\n",
    "# 방정식을 풀기 위한 solve() 함수 사용\n",
    "# solve()함수 안에 equation을 차례로 입력\n",
    "\n",
    "solve((equation1,equation2), dict = True)\n"
   ]
  },
  {
   "cell_type": "code",
   "execution_count": 14,
   "metadata": {},
   "outputs": [
    {
     "data": {
      "image/png": "[encoded data removed]",
      "text/latex": [
       "$\\displaystyle \\left\\{ x : \\frac{13}{3}, \\  y : \\frac{2}{3}\\right\\}$"
      ],
      "text/plain": [
       "{x: 13/3, y: 2/3}"
      ]
     },
     "execution_count": 14,
     "metadata": {},
     "output_type": "execute_result"
    }
   ],
   "source": [
    "from sympy import Symbol, solve\n",
    "\n",
    "x = Symbol('x')\n",
    "y = Symbol('y')\n",
    "\n",
    "equation1 = x + y - 5\n",
    "equation2 = 2*x - y - 8\n",
    "solve((equation1, equation2))"
   ]
  },
  {
   "cell_type": "code",
   "execution_count": null,
   "metadata": {},
   "outputs": [],
   "source": []
  }
 ],
 "metadata": {
  "kernelspec": {
   "display_name": "Python 3",
   "language": "python",
   "name": "python3"
  },
  "language_info": {
   "codemirror_mode": {
    "name": "ipython",
    "version": 3
   },
   "file_extension": ".py",
   "mimetype": "text/x-python",
   "name": "python",
   "nbconvert_exporter": "python",
   "pygments_lexer": "ipython3",
   "version": "3.8.3"
  }
 },
 "nbformat": 4,
 "nbformat_minor": 4
}
